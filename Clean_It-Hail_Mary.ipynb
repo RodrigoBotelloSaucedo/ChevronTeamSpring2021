{
 "cells": [
  {
   "cell_type": "code",
   "execution_count": null,
   "metadata": {
    "scrolled": true
   },
   "outputs": [],
   "source": []
  },
  {
   "cell_type": "code",
   "execution_count": 74,
   "metadata": {},
   "outputs": [],
   "source": [
    "import numpy as np\n",
    "import pandas as pd\n",
    "import matplotlib.pyplot as plt\n",
    "import time\n",
    "from datetime import datetime as tm\n",
    "import datetime\n",
    "import seaborn as sns\n",
    "from lifelines import CoxPHFitter,LogLogisticAFTFitter, WeibullAFTFitter, LogNormalAFTFitter\n",
    "from lifelines.datasets import load_rossi\n",
    "from reliability.Fitters import Fit_Weibull_3P\n",
    "from scipy.optimize import minimize\n",
    "t = time.time()\n",
    "PHMinput = 0"
   ]
  },
  {
   "cell_type": "code",
   "execution_count": 75,
   "metadata": {},
   "outputs": [],
   "source": [
    "### converts varying datatypes into unix time for easier computation\n",
    "def convert2unix(time):\n",
    "    ### for string format\n",
    "    if type(time) == type('hey'):\n",
    "        time = (tm.strptime(time,'%Y-%m-%dT%H:%M:%S') - tm(1970,1,1,0,0,0)).total_seconds()\n",
    "        #time = tm.strptime(time,'%m/%d/%y %H:%M:%S %p').timestamp()\n",
    "    ### for datetime format\n",
    "    elif type(time) == tm:\n",
    "        time = time.timestamp()\n",
    "        print('tm')\n",
    "    ### this is already in unix time\n",
    "    elif type(time) == float:\n",
    "        #print(time)\n",
    "        pass\n",
    "    ### for pandas format\n",
    "    elif type(time) == pd._libs.tslibs.timestamps.Timestamp:\n",
    "        time = time.timestamp()\n",
    "    ### notifies the user that the format is not recognized\n",
    "    else:\n",
    "        print('NONE OF THE ABOVE')\n",
    "        print(type(time))\n",
    "    return time\n"
   ]
  },
  {
   "cell_type": "code",
   "execution_count": 76,
   "metadata": {},
   "outputs": [],
   "source": [
    "def find_zero(lst, lastfail, currfail):\n",
    "    newlst = []\n",
    "    for item in lst:\n",
    "        if item >= 0 and item < currfail - lastfail:\n",
    "            newlst.append(item + 1) \n",
    "    return(newlst)"
   ]
  },
  {
   "cell_type": "code",
   "execution_count": 77,
   "metadata": {},
   "outputs": [
    {
     "name": "stdout",
     "output_type": "stream",
     "text": [
      "Elapsed time is 1.465512184302012 minutes\n"
     ]
    }
   ],
   "source": [
    "\n",
    "### $ Filename imported by field engineer\n",
    "filename = 'C:/Users/sambe/Desktop/Chevron Project/chevron_test_template.xlsx'\n",
    "### list of all possible motor variable inputs\n",
    "allvars = ['Inlet Flowrate',\n",
    " 'Inlet Pressure',\n",
    " 'Outlet Pressure',\n",
    " 'Inlet Temperature',\n",
    " 'Column Level',\n",
    " 'STD API',\n",
    " 'Pump Driver Vibration',\n",
    " 'Pump Vibration',\n",
    " 'Sister Pump Driver Vibration',\n",
    " 'Sister Pump Vibration']\n",
    "### $ Convert to pandas data frame\n",
    "df = pd.read_excel(filename, sheet_name = 'Time-Series Data')\n",
    "print(f'Elapsed time is {(time.time() - t)/60} minutes')\n",
    "### grab columns from input dataframe\n",
    "a = df.columns\n",
    "\n",
    "### $ Get the number of rows and columns in the file (# of covariates and sampling will probably be different)\n",
    "number_rows = len(df.index)\n",
    "number_cols = len(df.columns)\n"
   ]
  },
  {
   "cell_type": "code",
   "execution_count": 78,
   "metadata": {},
   "outputs": [
    {
     "data": {
      "text/html": [
       "<div>\n",
       "<style scoped>\n",
       "    .dataframe tbody tr th:only-of-type {\n",
       "        vertical-align: middle;\n",
       "    }\n",
       "\n",
       "    .dataframe tbody tr th {\n",
       "        vertical-align: top;\n",
       "    }\n",
       "\n",
       "    .dataframe thead th {\n",
       "        text-align: right;\n",
       "    }\n",
       "</style>\n",
       "<table border=\"1\" class=\"dataframe\">\n",
       "  <thead>\n",
       "    <tr style=\"text-align: right;\">\n",
       "      <th></th>\n",
       "      <th>Pen Name:</th>\n",
       "      <th>16FI226</th>\n",
       "      <th>Units: MBPD</th>\n",
       "      <th>Unnamed</th>\n",
       "      <th>...</th>\n",
       "      <th>Unnamed</th>\n",
       "      <th>EMPTY 1</th>\n",
       "      <th>EMPTY 2</th>\n",
       "      <th>EMPTY 3</th>\n",
       "    </tr>\n",
       "  </thead>\n",
       "  <tbody>\n",
       "    <tr>\n",
       "      <th>0</th>\n",
       "      <td>NaN</td>\n",
       "      <td>NaN</td>\n",
       "      <td>NaN</td>\n",
       "      <td>nan</td>\n",
       "      <td>...</td>\n",
       "      <td>nan</td>\n",
       "      <td>NaN</td>\n",
       "      <td>NaN</td>\n",
       "      <td>NaN</td>\n",
       "    </tr>\n",
       "    <tr>\n",
       "      <th>1</th>\n",
       "      <td>2038.28</td>\n",
       "      <td>2018-02-20T15:01:30</td>\n",
       "      <td>GOOD</td>\n",
       "      <td>nan</td>\n",
       "      <td>...</td>\n",
       "      <td>nan</td>\n",
       "      <td>NaN</td>\n",
       "      <td>NaN</td>\n",
       "      <td>NaN</td>\n",
       "    </tr>\n",
       "    <tr>\n",
       "      <th>2</th>\n",
       "      <td>2039.22</td>\n",
       "      <td>2018-02-20T15:01:59</td>\n",
       "      <td>GOOD</td>\n",
       "      <td>nan</td>\n",
       "      <td>...</td>\n",
       "      <td>nan</td>\n",
       "      <td>NaN</td>\n",
       "      <td>NaN</td>\n",
       "      <td>NaN</td>\n",
       "    </tr>\n",
       "    <tr>\n",
       "      <th>3</th>\n",
       "      <td>2039.06</td>\n",
       "      <td>2018-02-20T15:02:29</td>\n",
       "      <td>GOOD</td>\n",
       "      <td>nan</td>\n",
       "      <td>...</td>\n",
       "      <td>nan</td>\n",
       "      <td>NaN</td>\n",
       "      <td>NaN</td>\n",
       "      <td>NaN</td>\n",
       "    </tr>\n",
       "    <tr>\n",
       "      <th>4</th>\n",
       "      <td>2039.22</td>\n",
       "      <td>2018-02-20T15:03:29</td>\n",
       "      <td>GOOD</td>\n",
       "      <td>nan</td>\n",
       "      <td>...</td>\n",
       "      <td>nan</td>\n",
       "      <td>NaN</td>\n",
       "      <td>NaN</td>\n",
       "      <td>NaN</td>\n",
       "    </tr>\n",
       "    <tr>\n",
       "      <th>...</th>\n",
       "      <td>...</td>\n",
       "      <td>...</td>\n",
       "      <td>...</td>\n",
       "      <td>...</td>\n",
       "      <td>...</td>\n",
       "      <td>...</td>\n",
       "      <td>...</td>\n",
       "      <td>...</td>\n",
       "      <td>...</td>\n",
       "    </tr>\n",
       "    <tr>\n",
       "      <th>507005</th>\n",
       "      <td>NaN</td>\n",
       "      <td>NaN</td>\n",
       "      <td>NaN</td>\n",
       "      <td>nan</td>\n",
       "      <td>...</td>\n",
       "      <td>nan</td>\n",
       "      <td>NaN</td>\n",
       "      <td>NaN</td>\n",
       "      <td>NaN</td>\n",
       "    </tr>\n",
       "    <tr>\n",
       "      <th>507006</th>\n",
       "      <td>NaN</td>\n",
       "      <td>NaN</td>\n",
       "      <td>NaN</td>\n",
       "      <td>nan</td>\n",
       "      <td>...</td>\n",
       "      <td>nan</td>\n",
       "      <td>NaN</td>\n",
       "      <td>NaN</td>\n",
       "      <td>NaN</td>\n",
       "    </tr>\n",
       "    <tr>\n",
       "      <th>507007</th>\n",
       "      <td>NaN</td>\n",
       "      <td>NaN</td>\n",
       "      <td>NaN</td>\n",
       "      <td>nan</td>\n",
       "      <td>...</td>\n",
       "      <td>nan</td>\n",
       "      <td>NaN</td>\n",
       "      <td>NaN</td>\n",
       "      <td>NaN</td>\n",
       "    </tr>\n",
       "    <tr>\n",
       "      <th>507008</th>\n",
       "      <td>NaN</td>\n",
       "      <td>NaN</td>\n",
       "      <td>NaN</td>\n",
       "      <td>nan</td>\n",
       "      <td>...</td>\n",
       "      <td>nan</td>\n",
       "      <td>NaN</td>\n",
       "      <td>NaN</td>\n",
       "      <td>NaN</td>\n",
       "    </tr>\n",
       "    <tr>\n",
       "      <th>507009</th>\n",
       "      <td>NaN</td>\n",
       "      <td>NaN</td>\n",
       "      <td>NaN</td>\n",
       "      <td>nan</td>\n",
       "      <td>...</td>\n",
       "      <td>nan</td>\n",
       "      <td>NaN</td>\n",
       "      <td>NaN</td>\n",
       "      <td>NaN</td>\n",
       "    </tr>\n",
       "  </tbody>\n",
       "</table>\n",
       "<p>507010 rows × 39 columns</p>\n",
       "</div>"
      ],
      "text/plain": [
       "0      Pen Name:              16FI226 Units: MBPD Unnamed  ... Unnamed EMPTY 1 EMPTY 2  EMPTY 3\n",
       "0            NaN                  NaN         NaN     nan  ...     nan     NaN     NaN      NaN\n",
       "1        2038.28  2018-02-20T15:01:30        GOOD     nan  ...     nan     NaN     NaN      NaN\n",
       "2        2039.22  2018-02-20T15:01:59        GOOD     nan  ...     nan     NaN     NaN      NaN\n",
       "3        2039.06  2018-02-20T15:02:29        GOOD     nan  ...     nan     NaN     NaN      NaN\n",
       "4        2039.22  2018-02-20T15:03:29        GOOD     nan  ...     nan     NaN     NaN      NaN\n",
       "...          ...                  ...         ...     ...  ...     ...     ...     ...      ...\n",
       "507005       NaN                  NaN         NaN     nan  ...     nan     NaN     NaN      NaN\n",
       "507006       NaN                  NaN         NaN     nan  ...     nan     NaN     NaN      NaN\n",
       "507007       NaN                  NaN         NaN     nan  ...     nan     NaN     NaN      NaN\n",
       "507008       NaN                  NaN         NaN     nan  ...     nan     NaN     NaN      NaN\n",
       "507009       NaN                  NaN         NaN     nan  ...     nan     NaN     NaN      NaN\n",
       "\n",
       "[507010 rows x 39 columns]"
      ]
     },
     "execution_count": 78,
     "metadata": {},
     "output_type": "execute_result"
    }
   ],
   "source": [
    "### formatting\n",
    "df.columns = df.iloc[0].fillna('Unnamed')\n",
    "df.drop(0, inplace = True)\n",
    "df.reset_index(drop = True, inplace = True)\n",
    "df"
   ]
  },
  {
   "cell_type": "code",
   "execution_count": 79,
   "metadata": {},
   "outputs": [
    {
     "name": "stdout",
     "output_type": "stream",
     "text": [
      "Elapsed time is 0.4875029961268107 minutes\n"
     ]
    }
   ],
   "source": [
    "\n",
    "### $ Create empty data frames with the three points per covariate (value, times, good/bad)\n",
    "variables = pd.DataFrame([])\n",
    "times = pd.DataFrame()\n",
    "goodbad = pd.DataFrame()\n",
    "### $ Sort out whole excel file to place the column in the right data frame (value, times, good/bad)\n",
    "### $ Relabeled with Variable i names\n",
    "### $ Iterates over the number of columns\n",
    "t = time.time()\n",
    "missingcols = []\n",
    "counter = 0\n",
    "for i in range(number_cols):\n",
    "    ### $ Puts column title into str\n",
    "    str = df.columns[i]\n",
    "    ### $ if searches for a title that starts with 'Pen Name'\n",
    "    if str.startswith('Pen Name'):\n",
    "        ### $ takes variables from column and puts in separate 'variables' dataframe\n",
    "        s = df.iloc[1:,i]\n",
    "        variables = pd.concat([variables,s.rename('Value')], axis = 1)\n",
    "    ### $ elif searches for a title that starts with 'Units'\n",
    "    elif str.startswith('Units'):\n",
    "        ### $ takes variables from column and puts in separate 'goodbad' dataframe\n",
    "        s = df.iloc[1:,i]\n",
    "        goodbad = pd.concat([goodbad,s.rename('GOOD/BAD')],axis = 1)\n",
    "    ### $ This is for the blank columns in between variable columns\n",
    "    elif str.startswith('Unnamed'):\n",
    "        ### $ Skips over empty columns\n",
    "        continue\n",
    "    elif str.startswith('EMPTY 1'):\n",
    "        variables = pd.concat([variables,pd.DataFrame([np.nan])],axis = 1)\n",
    "    elif str.startswith('EMPTY 2'):\n",
    "        times = pd.concat([times,pd.DataFrame([np.nan])],axis = 1)\n",
    "        missingcols.append(int((i-1)/4))\n",
    "    elif str.startswith('EMPTY 3'):\n",
    "        goodbad = pd.concat([goodbad,pd.DataFrame([np.nan])],axis = 1)\n",
    "    ### $ This is an else because the pen names vary and will be different for every pump/variable\n",
    "    else:\n",
    "        ### $ takes variables from column and puts in separate 'times' dataframe\n",
    "        s = df.iloc[1:,i].apply(convert2unix)\n",
    "        times = pd.concat([times,s.rename('Time')], axis = 1)\n",
    "print(f'Elapsed time is {(time.time() - t)/60} minutes')\n",
    "### relabels times, goodbad, and variables to have the same column names\n",
    "times.columns = allvars\n",
    "goodbad.columns = allvars\n",
    "variables.columns = allvars"
   ]
  },
  {
   "cell_type": "code",
   "execution_count": 80,
   "metadata": {},
   "outputs": [],
   "source": [
    "### formatting\n",
    "times.drop(0,inplace = True)\n",
    "times.reset_index(drop = True, inplace = True)\n",
    "variables.drop(0,inplace = True)\n",
    "variables.reset_index(drop = True, inplace = True)\n",
    "goodbad.drop(0,inplace = True)\n",
    "goodbad.reset_index(drop = True, inplace = True)"
   ]
  },
  {
   "cell_type": "code",
   "execution_count": 81,
   "metadata": {},
   "outputs": [],
   "source": [
    "### finds the available vairables for that motor (i.e. those variables that were input into the program)\n",
    "availvars = []\n",
    "for i in range(len(times.columns)):\n",
    "    if i in missingcols:\n",
    "        pass\n",
    "    else:\n",
    "        availvars.append(times.columns[i])"
   ]
  },
  {
   "cell_type": "code",
   "execution_count": 82,
   "metadata": {},
   "outputs": [
    {
     "data": {
      "text/plain": [
       "['Inlet Flowrate',\n",
       " 'Inlet Pressure',\n",
       " 'Outlet Pressure',\n",
       " 'Pump Driver Vibration',\n",
       " 'Pump Vibration']"
      ]
     },
     "execution_count": 82,
     "metadata": {},
     "output_type": "execute_result"
    }
   ],
   "source": [
    "availvars"
   ]
  },
  {
   "cell_type": "code",
   "execution_count": 83,
   "metadata": {},
   "outputs": [],
   "source": [
    "### selects only the columns with variables in them\n",
    "times = times[availvars]\n",
    "goodbad = goodbad[availvars]\n",
    "variables = variables[availvars]"
   ]
  },
  {
   "cell_type": "code",
   "execution_count": 84,
   "metadata": {},
   "outputs": [],
   "source": [
    "### formatting for later\n",
    "times = times.append(pd.Series([], dtype = np.float64),ignore_index = True)"
   ]
  },
  {
   "cell_type": "code",
   "execution_count": 85,
   "metadata": {},
   "outputs": [
    {
     "name": "stdout",
     "output_type": "stream",
     "text": [
      "Elapsed time is 0.720980147520701 minutes\n"
     ]
    }
   ],
   "source": [
    "### $ interpolates for BAD Values\n",
    "### $ Excludes last row because you can't interpolate a machine being on or off\n",
    "t = time.time()\n",
    "for j in range(len(variables.columns)):\n",
    "    for i in range(len(variables.iloc[:,j].dropna())):\n",
    "        str = goodbad.iloc[i,j]\n",
    "        ### $ If the value is bad and the value has no prior value to interpolate from, just use next good value\n",
    "        ### $ Needs improvement: could back interpolate and take care of case in which there are consecutive bad values     \n",
    "        if str.startswith('B'):# and i == 0:\n",
    "            variables.iloc[i,j] = variables.iloc[i-1,j]\n",
    "            goodbad.iloc[i,j] = 'OK'\n",
    "        ### $ Else if bad, then interpolate between the two good points\n",
    "#        elif str.startswith('B'):\n",
    "#            t1 = times.iloc[i-1,j]\n",
    "#            t2 = times.iloc[i,j]\n",
    "#            t3 = times.iloc[i+1,j]\n",
    "#            a = variables.iloc[i-1,j]\n",
    "#            c = variables.iloc[i+1,j]\n",
    "#            variables.iloc[i,j] = ((t2-t1)/(t3-t1))*(c-a)+a\n",
    "#            goodbad.iloc[i,j] = 'INT'\n",
    "print(f'Elapsed time is {(time.time() - t)/60} minutes')"
   ]
  },
  {
   "cell_type": "code",
   "execution_count": 86,
   "metadata": {},
   "outputs": [],
   "source": [
    "### $ Align times via binning\n",
    "### $ kappa designates the grouping size\n",
    "### $ Any timestamp outside of the bin will be group later\n",
    "\n",
    "\n",
    "\n",
    "### $ Sets to dataframes: windows and shutters. windows is the number row that is being looked at for that variable. shutters is end of the length of that variable\n",
    "### $ column titles designate which variable is being investigated\n",
    "windows = pd.DataFrame()\n",
    "shutters = pd.DataFrame()\n",
    "for j in range(len(variables.columns)):\n",
    "    w = pd.DataFrame([0], columns = [f'{j}'])\n",
    "    windows = pd.concat([windows, w], axis = 1)\n",
    "    temp = variables.iloc[:,j]\n",
    "    s = pd.DataFrame([len(temp)], columns = [f'{j}'])\n",
    "    shutters = pd.concat([shutters, s], axis = 1)\n",
    "    \n",
    "binsize = 60*2#seconds\n",
    "\n",
    "### $ abstime is the merged and grouped times of all the variables\n",
    "abstime = pd.DataFrame([])\n",
    "### $ vars is the merged and grouped variables\n",
    "vars = pd.DataFrame([], columns = allvars)"
   ]
  },
  {
   "cell_type": "code",
   "execution_count": null,
   "metadata": {},
   "outputs": [],
   "source": [
    "############# binsize for binning in seconds\n",
    "binsize = 60*2\n",
    "#############\n",
    "timestart = times.dropna(thresh = 1).min().min()\n",
    "timenow = timestart\n",
    "timeend = times.dropna(thresh = 1).max().max()\n",
    "t = time.time()\n",
    "\n",
    "abstime = []\n",
    "vars = []\n",
    "### Flag denotes if the timenow is less than or equal to timeend\n",
    "Flag = 1\n",
    "while Flag:\n",
    "    ### vlist is list of variables in that timebin\n",
    "    vlist = []\n",
    "    ### below iterates over columns\n",
    "    for j in range(len(variables.columns)):\n",
    "        ### Flag1 denotes if the end of the available times in the column has been reached\n",
    "        Flag1 = 1\n",
    "        ### v is the list of variables that fall within the time bin (say three flowrates occur within that two minute timebin)\n",
    "        v = []\n",
    "        while Flag1:\n",
    "            ###\n",
    "            timecomp = times.iloc[windows.iloc[0,j],j]\n",
    "            if timecomp >= timenow and timecomp < timenow + binsize:\n",
    "                v.append(variables.iloc[windows.iloc[0,j],j])\n",
    "                windows.iloc[0,j] += 1 \n",
    "            elif timecomp >= timenow + binsize:\n",
    "                Flag1 = 0\n",
    "            elif np.isnan(times.iloc[windows.iloc[0,j],j]):\n",
    "                Flag1 = 0   \n",
    "\n",
    "            else:\n",
    "                print('HELP')\n",
    "        if len(v) == 0:\n",
    "            v = np.nan\n",
    "        else:\n",
    "            v = sum(v)/float(len(v)) \n",
    "        vlist.append(v)\n",
    "\n",
    "        \n",
    "    abstime.append(timenow)\n",
    "    vars.append(vlist)\n",
    "    timenow += binsize\n",
    "    if timenow > timeend:\n",
    "        Flag = 0\n",
    "print(f'Elapsed time is {(time.time() - t)/60} minutes')"
   ]
  },
  {
   "cell_type": "code",
   "execution_count": null,
   "metadata": {},
   "outputs": [],
   "source": [
    "abstime = pd.DataFrame(abstime, columns = ['Time'])"
   ]
  },
  {
   "cell_type": "code",
   "execution_count": null,
   "metadata": {},
   "outputs": [],
   "source": [
    "vars = pd.DataFrame(vars, columns = availvars)"
   ]
  },
  {
   "cell_type": "code",
   "execution_count": null,
   "metadata": {},
   "outputs": [],
   "source": [
    "for j in range(len(vars.columns)):\n",
    "    for i in range(len(vars)):\n",
    "        if np.isnan(vars.iloc[i,j]) and i == 0:\n",
    "            vars.iloc[i,j] = vars.iloc[i+1,j]\n",
    "        elif np.isnan(vars.iloc[i,j]):\n",
    "            vars.iloc[i,j] = vars.iloc[i-1,j]\n"
   ]
  },
  {
   "cell_type": "code",
   "execution_count": null,
   "metadata": {},
   "outputs": [],
   "source": [
    "vars"
   ]
  },
  {
   "cell_type": "code",
   "execution_count": null,
   "metadata": {},
   "outputs": [],
   "source": [
    "availvarsplustime = ['Time']\n",
    "for s in availvars:\n",
    "    availvarsplustime.append(s)\n"
   ]
  },
  {
   "cell_type": "code",
   "execution_count": null,
   "metadata": {
    "scrolled": true
   },
   "outputs": [],
   "source": [
    "\n",
    "\n",
    "fixed = pd.concat([abstime,vars], axis = 1)\n",
    "fixed.columns = availvarsplustime\n",
    "fixed.dropna(thresh = 2, inplace = True)\n",
    "\n"
   ]
  },
  {
   "cell_type": "markdown",
   "metadata": {},
   "source": [
    "fixed.to_excel('interpolatedvar.xlsx')\n"
   ]
  },
  {
   "cell_type": "code",
   "execution_count": null,
   "metadata": {
    "scrolled": true
   },
   "outputs": [],
   "source": [
    "fixed"
   ]
  },
  {
   "cell_type": "code",
   "execution_count": null,
   "metadata": {},
   "outputs": [],
   "source": [
    "\n",
    "filename = 'C:/Users/sambe/Desktop/Chevron Project/chevron_test_template.xlsx'\n",
    "faildata = pd.read_excel(filename, sheet_name = 'Failure Mode & Date')"
   ]
  },
  {
   "cell_type": "code",
   "execution_count": null,
   "metadata": {},
   "outputs": [],
   "source": [
    "faildata"
   ]
  },
  {
   "cell_type": "code",
   "execution_count": null,
   "metadata": {},
   "outputs": [],
   "source": [
    "list = []\n",
    "#####\n",
    "minflowrate = fixed['Inlet Flowrate'].mean()\n",
    "#####\n",
    "flowdiff = fixed['Inlet Flowrate'] - minflowrate\n",
    "for item in flowdiff:\n",
    "    if item > 0:\n",
    "        list.append('On')\n",
    "    else:\n",
    "        list.append('Off')\n",
    "fixed['Status'] = list\n",
    "\n",
    "fixed = fixed[fixed['Status'] == 'On']\n",
    "\n",
    "fixed.reset_index(drop = True, inplace = True)\n",
    "\n",
    "fixed"
   ]
  },
  {
   "cell_type": "code",
   "execution_count": null,
   "metadata": {},
   "outputs": [],
   "source": [
    "minflowrate"
   ]
  },
  {
   "cell_type": "code",
   "execution_count": null,
   "metadata": {},
   "outputs": [],
   "source": [
    "onoffint = 60*60\n",
    "\n",
    "off = pd.DataFrame(fixed[fixed['Time'].diff(periods = -1) < -onoffint])\n",
    "offindex = off.index\n",
    "off.reset_index(drop = True, inplace = True)\n",
    "off['Time'] = off['Time'] - timestart\n",
    "\n",
    "on = pd.DataFrame(fixed[fixed['Time'].diff(periods = 1) > onoffint])\n",
    "onindex = on.index\n",
    "on.reset_index(drop = True, inplace = True)\n",
    "on['Time'] = on['Time'] - timestart\n",
    "\n",
    "onindex"
   ]
  },
  {
   "cell_type": "code",
   "execution_count": null,
   "metadata": {},
   "outputs": [],
   "source": [
    "### Fix to time on\n",
    "timestart = fixed['Time'].min()\n",
    "timestart\n",
    "\n",
    "timeshifted = fixed['Time'] - timestart\n",
    "\n",
    "timeshifted\n",
    "\n",
    "timeoff = on['Time'] - off['Time']\n",
    "\n",
    "timeoff\n",
    "\n",
    "timeoff.index = onindex\n",
    "\n",
    "fixedlist = timeshifted.tolist()\n",
    "\n",
    "for index in fixed.index:\n",
    "    if index in timeoff.index:\n",
    "        fixedlist[index:] -= (timeoff[index] - binsize)\n",
    "\n",
    "timeonlist = pd.DataFrame(fixedlist,columns = ['Time On'])\n",
    "\n",
    "timeonlist\n",
    "\n",
    "\n",
    "fixed = pd.concat([timeonlist,fixed], axis = 1)\n",
    "\n",
    "fixed"
   ]
  },
  {
   "cell_type": "code",
   "execution_count": null,
   "metadata": {},
   "outputs": [],
   "source": []
  },
  {
   "cell_type": "code",
   "execution_count": null,
   "metadata": {},
   "outputs": [],
   "source": []
  },
  {
   "cell_type": "code",
   "execution_count": null,
   "metadata": {},
   "outputs": [],
   "source": []
  },
  {
   "cell_type": "code",
   "execution_count": null,
   "metadata": {},
   "outputs": [],
   "source": []
  },
  {
   "cell_type": "code",
   "execution_count": null,
   "metadata": {
    "scrolled": true
   },
   "outputs": [],
   "source": [
    "faildata['Date'] = faildata['Date'].apply(convert2unix)"
   ]
  },
  {
   "cell_type": "code",
   "execution_count": null,
   "metadata": {},
   "outputs": [],
   "source": [
    "faildata.sort_values(by = ['Date'], inplace = True)"
   ]
  },
  {
   "cell_type": "code",
   "execution_count": null,
   "metadata": {},
   "outputs": [],
   "source": [
    "allfailmodes = ['Motor_Distorted','Broken_Valve','Valve_Alignment','Broken_Impeller','Leaking_Valve', 'Cracked_Seal']\n",
    "allfailmodeswindows = [60*60*24*7,60*60*24*2,60*60*24*2,60*60*24*5,60*60*24*2,60*60*24*2]"
   ]
  },
  {
   "cell_type": "code",
   "execution_count": null,
   "metadata": {},
   "outputs": [],
   "source": [
    "failmodeswindows = pd.DataFrame([allfailmodeswindows], columns = allfailmodes)"
   ]
  },
  {
   "cell_type": "code",
   "execution_count": null,
   "metadata": {},
   "outputs": [],
   "source": [
    "failmodeswindows"
   ]
  },
  {
   "cell_type": "code",
   "execution_count": null,
   "metadata": {},
   "outputs": [],
   "source": [
    "list = []\n",
    "for mode in faildata['Mode']:\n",
    "    list.append(failmodeswindows[mode][0])"
   ]
  },
  {
   "cell_type": "code",
   "execution_count": null,
   "metadata": {},
   "outputs": [],
   "source": [
    "faildata['Time Window'] = list"
   ]
  },
  {
   "cell_type": "code",
   "execution_count": null,
   "metadata": {},
   "outputs": [],
   "source": [
    "faildata.reset_index(drop = True, inplace = True)"
   ]
  },
  {
   "cell_type": "code",
   "execution_count": null,
   "metadata": {},
   "outputs": [],
   "source": [
    "faildata"
   ]
  },
  {
   "cell_type": "code",
   "execution_count": null,
   "metadata": {},
   "outputs": [],
   "source": [
    "list = []\n",
    "for faildate in faildata['Date']:\n",
    "    list.append(fixed.loc[(fixed['Time'] < faildate)]['Time On'].max())\n",
    "    "
   ]
  },
  {
   "cell_type": "code",
   "execution_count": null,
   "metadata": {},
   "outputs": [],
   "source": [
    "faildata['Time On'] = list"
   ]
  },
  {
   "cell_type": "code",
   "execution_count": null,
   "metadata": {},
   "outputs": [],
   "source": [
    "faildata"
   ]
  },
  {
   "cell_type": "code",
   "execution_count": null,
   "metadata": {},
   "outputs": [],
   "source": [
    "list = []\n",
    "for faildate in faildata['Time On']:\n",
    "    faildiff = faildate - faildata['Time On']\n",
    "    Flag = 0\n",
    "    for diff in faildiff:\n",
    "        if diff > 0 and diff < faildata.loc[faildata['Time On'] == faildate]['Time Window'].values:\n",
    "            x = diff\n",
    "            Flag = 1\n",
    "    if Flag == 1:\n",
    "        list.append(x)\n",
    "    else:\n",
    "        list.append(faildata.loc[faildata['Time On'] == faildate]['Time Window'].values[0])\n",
    "        "
   ]
  },
  {
   "cell_type": "code",
   "execution_count": null,
   "metadata": {},
   "outputs": [],
   "source": [
    "faildata.loc[faildata['Time On'] == faildate]['Time Window'].values[0]"
   ]
  },
  {
   "cell_type": "code",
   "execution_count": null,
   "metadata": {},
   "outputs": [],
   "source": [
    "list"
   ]
  },
  {
   "cell_type": "code",
   "execution_count": null,
   "metadata": {},
   "outputs": [],
   "source": [
    "faildata.drop(axis = 1,columns = 'Time Window', inplace = True)"
   ]
  },
  {
   "cell_type": "code",
   "execution_count": null,
   "metadata": {},
   "outputs": [],
   "source": [
    "faildata['Time Window'] = list"
   ]
  },
  {
   "cell_type": "code",
   "execution_count": null,
   "metadata": {},
   "outputs": [],
   "source": [
    "faildata"
   ]
  },
  {
   "cell_type": "code",
   "execution_count": null,
   "metadata": {},
   "outputs": [],
   "source": []
  },
  {
   "cell_type": "code",
   "execution_count": null,
   "metadata": {},
   "outputs": [],
   "source": []
  },
  {
   "cell_type": "markdown",
   "metadata": {},
   "source": [
    "list = []\n",
    "#####\n",
    "minflowrate = fixed['Inlet Flowrate'].mean()\n",
    "#####\n",
    "flowdiff = fixed['Inlet Flowrate'] - minflowrate\n",
    "for item in flowdiff:\n",
    "    if item > 0:\n",
    "        list.append('On')\n",
    "    else:\n",
    "        list.append('Off')\n",
    "fixed['Status'] = list\n",
    "\n",
    "fixed = fixed[fixed['Status'] == 'On']\n",
    "\n",
    "fixed.reset_index(drop = True, inplace = True)"
   ]
  },
  {
   "cell_type": "markdown",
   "metadata": {},
   "source": [
    "fixed"
   ]
  },
  {
   "cell_type": "code",
   "execution_count": null,
   "metadata": {},
   "outputs": [],
   "source": []
  },
  {
   "cell_type": "code",
   "execution_count": null,
   "metadata": {},
   "outputs": [],
   "source": [
    "onoffint = 60*60\n",
    "\n",
    "off = pd.DataFrame(fixed[fixed['Time'].diff(periods = -1) < -onoffint])\n",
    "offindex = off.index\n",
    "off.reset_index(drop = True, inplace = True)\n",
    "off['Time'] = off['Time'] - timestart\n",
    "\n",
    "on = pd.DataFrame(fixed[fixed['Time'].diff(periods = 1) > onoffint])\n",
    "onindex = on.index\n",
    "on.reset_index(drop = True, inplace = True)\n",
    "on['Time'] = on['Time'] - timestart\n",
    "\n",
    "onindex"
   ]
  },
  {
   "cell_type": "code",
   "execution_count": null,
   "metadata": {},
   "outputs": [],
   "source": []
  },
  {
   "cell_type": "code",
   "execution_count": null,
   "metadata": {},
   "outputs": [],
   "source": []
  },
  {
   "cell_type": "code",
   "execution_count": null,
   "metadata": {},
   "outputs": [],
   "source": []
  },
  {
   "cell_type": "markdown",
   "metadata": {},
   "source": [
    "### Fix to time on\n",
    "timestart = fixed['Time'].min()\n",
    "timestart\n",
    "\n",
    "timeshifted = fixed['Time'] - timestart\n",
    "\n",
    "timeshifted\n",
    "\n",
    "timeoff = on['Time'] - off['Time']\n",
    "\n",
    "timeoff\n",
    "\n",
    "timeoff.index = onindex\n",
    "\n",
    "fixedlist = timeshifted.tolist()\n",
    "\n",
    "for index in fixed.index:\n",
    "    if index in timeoff.index:\n",
    "        fixedlist[index:] -= timeoff[index]\n",
    "\n",
    "timeonlist = pd.DataFrame(fixedlist,columns = ['Time On'])\n",
    "\n",
    "timeonlist\n",
    "\n",
    "\n",
    "fixed = pd.concat([timeonlist,fixed], axis = 1)"
   ]
  },
  {
   "cell_type": "markdown",
   "metadata": {},
   "source": [
    "fixed"
   ]
  },
  {
   "cell_type": "code",
   "execution_count": null,
   "metadata": {},
   "outputs": [],
   "source": [
    "labeled = pd.DataFrame([], columns = availvarsplustime)"
   ]
  },
  {
   "cell_type": "code",
   "execution_count": null,
   "metadata": {},
   "outputs": [],
   "source": [
    "for mode in allfailmodes:\n",
    "    modedates = faildata[faildata['Mode'] == mode]['Date']\n",
    "    for failuredate in modedates:\n",
    "        window = faildata[(faildata['Mode'] == mode) & (faildata['Date'] == failuredate)]['Time Window'].values[0]\n",
    "        timeonfail = fixed.loc[(fixed['Time'] <= failuredate)]['Time On'].max()\n",
    "        z = pd.DataFrame(fixed.loc[(fixed['Time'] <= failuredate) & (fixed['Time On'] > timeonfail - window)])\n",
    "        z['Condition'] = mode\n",
    "        labeled = pd.concat([labeled,z])"
   ]
  },
  {
   "cell_type": "code",
   "execution_count": null,
   "metadata": {},
   "outputs": [],
   "source": [
    "labeled"
   ]
  },
  {
   "cell_type": "code",
   "execution_count": null,
   "metadata": {},
   "outputs": [],
   "source": [
    "window"
   ]
  },
  {
   "cell_type": "code",
   "execution_count": null,
   "metadata": {},
   "outputs": [],
   "source": [
    "labeled.sort_index(inplace = True)"
   ]
  },
  {
   "cell_type": "code",
   "execution_count": null,
   "metadata": {},
   "outputs": [],
   "source": [
    "labeled"
   ]
  },
  {
   "cell_type": "code",
   "execution_count": null,
   "metadata": {},
   "outputs": [],
   "source": [
    "list = []\n",
    "for index1 in fixed.index:\n",
    "    if index1  not in labeled.index:\n",
    "        list.append(index1)\n",
    "        "
   ]
  },
  {
   "cell_type": "code",
   "execution_count": null,
   "metadata": {},
   "outputs": [],
   "source": [
    "z = pd.DataFrame(fixed.loc[list,:])\n",
    "z['Condition'] = 'Normal'\n",
    "labeled = pd.concat([labeled,z])"
   ]
  },
  {
   "cell_type": "code",
   "execution_count": null,
   "metadata": {},
   "outputs": [],
   "source": [
    "labeled.sort_index(inplace = True)"
   ]
  },
  {
   "cell_type": "code",
   "execution_count": null,
   "metadata": {},
   "outputs": [],
   "source": [
    "labeled['Condition'].value_counts()"
   ]
  },
  {
   "cell_type": "markdown",
   "metadata": {},
   "source": [
    "labeled.to_excel('HEYYY.xlsx')"
   ]
  },
  {
   "cell_type": "code",
   "execution_count": null,
   "metadata": {},
   "outputs": [],
   "source": [
    "del fixed"
   ]
  },
  {
   "cell_type": "markdown",
   "metadata": {},
   "source": [
    "list = []\n",
    "#####\n",
    "minvib = 0.05\n",
    "#####\n",
    "vibdiff = labeled['Pump Driver Vibration'] - minvib\n",
    "for item in vibdiff:\n",
    "    if item > 0:\n",
    "        list.append('On')\n",
    "    else:\n",
    "        list.append('Off')\n",
    "labeled['Status'] = list"
   ]
  },
  {
   "cell_type": "markdown",
   "metadata": {},
   "source": [
    "labeled = labeled[labeled['Status'] == 'On']"
   ]
  },
  {
   "cell_type": "markdown",
   "metadata": {},
   "source": [
    "labeled.reset_index(drop = True, inplace = True)"
   ]
  },
  {
   "cell_type": "markdown",
   "metadata": {},
   "source": [
    "len(labeled)"
   ]
  },
  {
   "cell_type": "code",
   "execution_count": null,
   "metadata": {},
   "outputs": [],
   "source": [
    "labeled.columns"
   ]
  },
  {
   "cell_type": "code",
   "execution_count": null,
   "metadata": {},
   "outputs": [],
   "source": [
    "allfailmodescols = []\n",
    "allfailtimescols = []\n",
    "for mode in allfailmodes:\n",
    "    allfailmodescols.append(f'{mode} Failure')\n",
    "    allfailtimescols.append(f'{mode} TT Failure')"
   ]
  },
  {
   "cell_type": "code",
   "execution_count": null,
   "metadata": {},
   "outputs": [],
   "source": [
    "allfailtimescols"
   ]
  },
  {
   "cell_type": "code",
   "execution_count": null,
   "metadata": {},
   "outputs": [],
   "source": [
    "def pos(lst):\n",
    "    return [x for x in lst if x >= 0] or None\n",
    "\n",
    "timeend = labeled['Time'].max()\n",
    "timestart = labeled['Time'].min()\n",
    "ttime = timeend-timestart\n",
    "mainlist = []\n",
    "for mode in allfailmodes:\n",
    "\n",
    "    list = []\n",
    "    check = []\n",
    "    m = faildata[faildata['Mode'] == mode]['Date']\n",
    "    lastfailtime = 0\n",
    "    for timefail in m:\n",
    "        print(mode,timefail)\n",
    "        Flag1 = 1\n",
    "        timediff = timefail - labeled['Time']\n",
    "        truetimefail = timefail - min(pos(timediff)) \n",
    "        for time in labeled[labeled['Time'] > lastfailtime]['Time']:\n",
    "            if Flag1:\n",
    "                #if time != truetimefail and time > lastfailtime and time  + 720*binsize > truetimefail:\n",
    "                #    list.append(starthaz + (1-starthaz) *(truetimefail - time)/(720*binsize)) #### look for error in 720*binsize\n",
    "                if time != truetimefail and time > lastfailtime:\n",
    "                    list.append(0)\n",
    "                elif time <= lastfailtime:\n",
    "                    pass\n",
    "                else:\n",
    "                    print('sweet')\n",
    "                    list.append(1)\n",
    "                    Flag1 = 0\n",
    "                    lastfailtime = time\n",
    "\n",
    "#    for timefail in m:\n",
    "#        print(mode,timefail)\n",
    "#        Flag1 = 1\n",
    "#        timediff = timefail - labeled['Time']\n",
    "#        truetimefail = timefail - min(pos(timediff)) \n",
    "#\n",
    "#        while Flag1:\n",
    "#            for time in labeled['Time']:\n",
    "#                if time != truetimefail:\n",
    "#                    list.append(0)\n",
    "#                else:\n",
    "#                    print('sweet')\n",
    "#                    list.append(1)\n",
    "#                    Flag1 = 0\n",
    "                \n",
    "\n",
    "    if list == []:\n",
    "        for time in labeled['Time']:\n",
    "            list.append(0)\n",
    "#            check.append()\n",
    "    mainlist.append(list)\n",
    "    \n",
    "#for time in labeled['Time']:\n",
    " #   if time != \n",
    "\n",
    "mainlist = pd.DataFrame(mainlist)\n",
    "\n",
    "mainlist = mainlist.transpose()\n",
    "\n",
    "mainlist.columns = allfailmodescols\n",
    "\n",
    "mainlist\n",
    "\n",
    "labeled = pd.concat([labeled,mainlist],axis = 1)\n",
    "\n",
    "labeled"
   ]
  },
  {
   "cell_type": "code",
   "execution_count": null,
   "metadata": {},
   "outputs": [],
   "source": [
    "labeled.columns"
   ]
  },
  {
   "cell_type": "code",
   "execution_count": null,
   "metadata": {},
   "outputs": [],
   "source": [
    "def hazard(xi,ti,args):\n",
    "\n",
    "    beta = np.array(args[0])\n",
    "    eta = np.array(args[1])\n",
    "    #print(ts, xss)\n",
    "    haz = (beta/eta)*(((np.array(ti)/eta))**(beta-1))*np.exp(np.dot(np.array(xi),np.array(args[2:])))\n",
    "    #print(hazard)\n",
    "\n",
    "    return haz"
   ]
  },
  {
   "cell_type": "code",
   "execution_count": null,
   "metadata": {},
   "outputs": [],
   "source": [
    "def rss(args):\n",
    "    \n",
    "    r = []\n",
    "    for i in range(0,2):\n",
    "\n",
    "        if i == 0:\n",
    "            h0 = 0.01\n",
    "            xi = xfails[0]\n",
    "            ti = tfails[0]\n",
    "        elif i == 1:\n",
    "            h0 = 1\n",
    "            xi = xfails[1]\n",
    "            ti = tfails[1]\n",
    "\n",
    "        beta = np.array(args[0])\n",
    "        eta = np.array(args[1])\n",
    "        #print(ts, xss)\n",
    "        hazard = (beta/eta)*(((np.array(ti)/eta))**(beta-1))*np.exp(np.dot(np.array(xi),np.array(args[2:])))\n",
    "        print(hazard)\n",
    "        r.append((h0-hazard)**2)\n",
    "\n",
    "    print(sum(r))\n",
    "\n",
    "    return sum(r)"
   ]
  },
  {
   "cell_type": "markdown",
   "metadata": {},
   "source": [
    "PHM MODEL\n",
    "\n",
    "\n",
    "\n",
    "\n"
   ]
  },
  {
   "cell_type": "code",
   "execution_count": null,
   "metadata": {},
   "outputs": [],
   "source": [
    "from scipy.optimize import fmin\n",
    "PHMout = pd.DataFrame()\n",
    "#for mode in allfailmodes:\n",
    "mode = allfailmodes[0]\n",
    "\n",
    "\n",
    "varandfail = pd.DataFrame(labeled[availvars + ['Time On'] + [f'{mode} Failure']])\n",
    "\n",
    "varandfail.dropna(inplace = True)\n",
    "\n",
    "\n",
    "\n",
    "varandfail\n",
    "\n",
    "xss = pd.DataFrame(varandfail[availvars])\n",
    "t = pd.DataFrame(varandfail['Time On'])/(60*60*24)\n",
    "\n",
    "window2 = 60*60*24\n",
    "\n",
    "a = xss\n",
    "\n",
    "a =a.groupby(np.arange(len(xss))//(window2/binsize))[availvars].mean()\n",
    "xss = a\n",
    "xss['one'] = 1\n",
    "\n",
    "a = t\n",
    "\n",
    "a =a.groupby(np.arange(len(t))//(window2/binsize)).mean()\n",
    "\n",
    "t = a\n",
    "\n",
    "xss = xss.values.tolist()\n",
    "\n",
    "t = t.values.tolist()\n",
    "\n",
    "\n",
    "xfails = []\n",
    "tfails = []\n",
    "tstart = t[0]\n",
    "tend = t[-1]\n",
    "xsstart = xss[0]\n",
    "xsend = xss[-1]\n",
    "tfails.append(tstart)\n",
    "tfails.append(tend)\n",
    "xfails.append(xsstart)\n",
    "xfails.append(xsend)\n",
    "\n",
    "\n",
    "args = [1.5,175,0.001,0.001,0.001,0.1,0.1, 0.1]#[2,175,0.001,0.001,0.001,0.1,0.1, 0.1] #[2,175,0.001,0.001,0.001,0.1,0.1]#[2,175,0.001,0.001,0.001,0.1,0.1]\n",
    "bnds = [(0,3),(-10000,10000), (-10000,10000),(-10000,10000),(-10000,10000),(-10000,10000),(-10000,10000)]\n",
    "params = fmin(rss,args)\n",
    "\n",
    "args = params.tolist()\n",
    "\n",
    "PHMhaz = []\n",
    "PHMtime = []\n",
    "\n",
    "for i in range(len(xss)):\n",
    "    PHMhaz.append(100*hazard(xss[i],t[i],args)[0])\n",
    "    PHMtime.append(t[i][0])\n",
    "\n",
    "\n",
    "PHMout = pd.concat([PHMout,pd.Series(PHMtime), pd.Series(PHMhaz)], axis = 1)\n",
    "\n",
    "#plt.figure()\n",
    "#plt.plot(t,PHMhaz)\n",
    "#plt.xlabel('Running Time [Days]')\n",
    "#plt.ylabel('Hazard [%]')\n",
    "#plt.title(f'{mode} Failure Hazard Graph')\n",
    "#plt.savefig(fname = f'{mode} Failure Hazard Graph.jpg')"
   ]
  },
  {
   "cell_type": "code",
   "execution_count": null,
   "metadata": {},
   "outputs": [],
   "source": [
    "args"
   ]
  },
  {
   "cell_type": "markdown",
   "metadata": {},
   "source": [
    "PHMcols = []\n",
    "for mode in allfailmodes:\n",
    "    PHMcols.append(f'{mode} Hazard Time')\n",
    "    PHMcols.append(f'{mode} Hazard %')"
   ]
  },
  {
   "cell_type": "markdown",
   "metadata": {},
   "source": [
    "PHMout.columns = PHMcols"
   ]
  },
  {
   "cell_type": "code",
   "execution_count": null,
   "metadata": {},
   "outputs": [],
   "source": []
  },
  {
   "cell_type": "code",
   "execution_count": null,
   "metadata": {},
   "outputs": [],
   "source": []
  },
  {
   "cell_type": "code",
   "execution_count": null,
   "metadata": {},
   "outputs": [],
   "source": []
  },
  {
   "cell_type": "markdown",
   "metadata": {},
   "source": [
    "labeled.drop(allfailmodescols, axis = 1, inplace = True)"
   ]
  },
  {
   "cell_type": "markdown",
   "metadata": {},
   "source": [
    "labeled.columns"
   ]
  },
  {
   "cell_type": "code",
   "execution_count": null,
   "metadata": {},
   "outputs": [],
   "source": [
    "faildata"
   ]
  },
  {
   "cell_type": "code",
   "execution_count": null,
   "metadata": {},
   "outputs": [],
   "source": [
    "allttfaillist = []\n",
    "for mode in allfailmodes:\n",
    "#mode = 'Motor_Distorted'\n",
    "    ttfaillist = []\n",
    "    timelastfail = -1\n",
    "    for fail in faildata.loc[faildata['Mode'] == mode]['Time On']:\n",
    "        a = (fail - labeled['Time On']).tolist()\n",
    "        b = find_zero(a,timelastfail, fail)\n",
    "        ttfaillist.append(b)\n",
    "        timelastfail = fail\n",
    "\n",
    "\n",
    "    if ttfaillist == []:  \n",
    "        y = pd.DataFrame(index = np.arange(len(labeled)), columns = ['0'])\n",
    "        y = np.array(y.values).flatten().tolist()\n",
    "        allttfaillist.append(y)\n",
    "    else:\n",
    "        allttfaillist.append([item for sublist in ttfaillist for item in sublist])"
   ]
  },
  {
   "cell_type": "code",
   "execution_count": null,
   "metadata": {},
   "outputs": [],
   "source": [
    "allttfaillist"
   ]
  },
  {
   "cell_type": "code",
   "execution_count": null,
   "metadata": {},
   "outputs": [],
   "source": [
    "allttfail = pd.DataFrame(allttfaillist)"
   ]
  },
  {
   "cell_type": "code",
   "execution_count": null,
   "metadata": {},
   "outputs": [],
   "source": [
    "allttfail = allttfail.transpose()"
   ]
  },
  {
   "cell_type": "code",
   "execution_count": null,
   "metadata": {},
   "outputs": [],
   "source": [
    "allttfail"
   ]
  },
  {
   "cell_type": "code",
   "execution_count": null,
   "metadata": {},
   "outputs": [],
   "source": [
    "allttfail.columns = allfailtimescols"
   ]
  },
  {
   "cell_type": "code",
   "execution_count": null,
   "metadata": {},
   "outputs": [],
   "source": [
    "allttfail/=60*60"
   ]
  },
  {
   "cell_type": "code",
   "execution_count": null,
   "metadata": {},
   "outputs": [],
   "source": [
    "labeledplustt = pd.concat([labeled, allttfail], axis = 1)"
   ]
  },
  {
   "cell_type": "code",
   "execution_count": null,
   "metadata": {},
   "outputs": [],
   "source": [
    "labeledplustt.to_excel('NEWNEWNew_Time_Windows_Polished_Shit.xlsx')"
   ]
  },
  {
   "cell_type": "code",
   "execution_count": 73,
   "metadata": {
    "scrolled": true
   },
   "outputs": [
    {
     "data": {
      "text/html": [
       "<div>\n",
       "<style scoped>\n",
       "    .dataframe tbody tr th:only-of-type {\n",
       "        vertical-align: middle;\n",
       "    }\n",
       "\n",
       "    .dataframe tbody tr th {\n",
       "        vertical-align: top;\n",
       "    }\n",
       "\n",
       "    .dataframe thead th {\n",
       "        text-align: right;\n",
       "    }\n",
       "</style>\n",
       "<table border=\"1\" class=\"dataframe\">\n",
       "  <thead>\n",
       "    <tr style=\"text-align: right;\">\n",
       "      <th></th>\n",
       "      <th>Time</th>\n",
       "      <th>Inlet Flowrate</th>\n",
       "      <th>Inlet Pressure</th>\n",
       "      <th>Outlet Pressure</th>\n",
       "      <th>...</th>\n",
       "      <th>Valve_Alignment TT Failure</th>\n",
       "      <th>Broken_Impeller TT Failure</th>\n",
       "      <th>Leaking_Valve TT Failure</th>\n",
       "      <th>Cracked_Seal TT Failure</th>\n",
       "    </tr>\n",
       "  </thead>\n",
       "  <tbody>\n",
       "    <tr>\n",
       "      <th>0</th>\n",
       "      <td>1.51914e+09</td>\n",
       "      <td>2038.95</td>\n",
       "      <td>44.0898</td>\n",
       "      <td>5589.7</td>\n",
       "      <td>...</td>\n",
       "      <td>3415.63</td>\n",
       "      <td>6483.4</td>\n",
       "      <td>6997.5</td>\n",
       "      <td>6369.2</td>\n",
       "    </tr>\n",
       "    <tr>\n",
       "      <th>1</th>\n",
       "      <td>1.51914e+09</td>\n",
       "      <td>2040.16</td>\n",
       "      <td>44.1504</td>\n",
       "      <td>5585.05</td>\n",
       "      <td>...</td>\n",
       "      <td>3415.6</td>\n",
       "      <td>6483.37</td>\n",
       "      <td>6997.47</td>\n",
       "      <td>6369.17</td>\n",
       "    </tr>\n",
       "    <tr>\n",
       "      <th>2</th>\n",
       "      <td>1.51914e+09</td>\n",
       "      <td>2040.94</td>\n",
       "      <td>44.1901</td>\n",
       "      <td>5592.54</td>\n",
       "      <td>...</td>\n",
       "      <td>3415.57</td>\n",
       "      <td>6483.33</td>\n",
       "      <td>6997.43</td>\n",
       "      <td>6369.13</td>\n",
       "    </tr>\n",
       "    <tr>\n",
       "      <th>3</th>\n",
       "      <td>1.51914e+09</td>\n",
       "      <td>2042.58</td>\n",
       "      <td>44.1855</td>\n",
       "      <td>5595.97</td>\n",
       "      <td>...</td>\n",
       "      <td>3415.53</td>\n",
       "      <td>6483.3</td>\n",
       "      <td>6997.4</td>\n",
       "      <td>6369.1</td>\n",
       "    </tr>\n",
       "    <tr>\n",
       "      <th>4</th>\n",
       "      <td>1.51914e+09</td>\n",
       "      <td>2042.4</td>\n",
       "      <td>44.1582</td>\n",
       "      <td>5592.54</td>\n",
       "      <td>...</td>\n",
       "      <td>3415.5</td>\n",
       "      <td>6483.27</td>\n",
       "      <td>6997.37</td>\n",
       "      <td>6369.07</td>\n",
       "    </tr>\n",
       "    <tr>\n",
       "      <th>...</th>\n",
       "      <td>...</td>\n",
       "      <td>...</td>\n",
       "      <td>...</td>\n",
       "      <td>...</td>\n",
       "      <td>...</td>\n",
       "      <td>...</td>\n",
       "      <td>...</td>\n",
       "      <td>...</td>\n",
       "      <td>...</td>\n",
       "    </tr>\n",
       "    <tr>\n",
       "      <th>300209</th>\n",
       "      <td>1.58221e+09</td>\n",
       "      <td>1727.5</td>\n",
       "      <td>40.4375</td>\n",
       "      <td>7743.12</td>\n",
       "      <td>...</td>\n",
       "      <td>nan</td>\n",
       "      <td>nan</td>\n",
       "      <td>nan</td>\n",
       "      <td>nan</td>\n",
       "    </tr>\n",
       "    <tr>\n",
       "      <th>300210</th>\n",
       "      <td>1.58221e+09</td>\n",
       "      <td>1727.66</td>\n",
       "      <td>40.2578</td>\n",
       "      <td>7718.24</td>\n",
       "      <td>...</td>\n",
       "      <td>nan</td>\n",
       "      <td>nan</td>\n",
       "      <td>nan</td>\n",
       "      <td>nan</td>\n",
       "    </tr>\n",
       "    <tr>\n",
       "      <th>300211</th>\n",
       "      <td>1.58221e+09</td>\n",
       "      <td>1728.59</td>\n",
       "      <td>40.375</td>\n",
       "      <td>7781.21</td>\n",
       "      <td>...</td>\n",
       "      <td>nan</td>\n",
       "      <td>nan</td>\n",
       "      <td>nan</td>\n",
       "      <td>nan</td>\n",
       "    </tr>\n",
       "    <tr>\n",
       "      <th>300212</th>\n",
       "      <td>1.58221e+09</td>\n",
       "      <td>1726.09</td>\n",
       "      <td>40.1719</td>\n",
       "      <td>7798.48</td>\n",
       "      <td>...</td>\n",
       "      <td>nan</td>\n",
       "      <td>nan</td>\n",
       "      <td>nan</td>\n",
       "      <td>nan</td>\n",
       "    </tr>\n",
       "    <tr>\n",
       "      <th>300213</th>\n",
       "      <td>1.58221e+09</td>\n",
       "      <td>1726.09</td>\n",
       "      <td>40.1719</td>\n",
       "      <td>7798.48</td>\n",
       "      <td>...</td>\n",
       "      <td>nan</td>\n",
       "      <td>nan</td>\n",
       "      <td>nan</td>\n",
       "      <td>nan</td>\n",
       "    </tr>\n",
       "  </tbody>\n",
       "</table>\n",
       "<p>300214 rows × 21 columns</p>\n",
       "</div>"
      ],
      "text/plain": [
       "              Time  Inlet Flowrate  Inlet Pressure  Outlet Pressure  ...  Valve_Alignment TT Failure  Broken_Impeller TT Failure  Leaking_Valve TT Failure Cracked_Seal TT Failure\n",
       "0      1.51914e+09         2038.95         44.0898           5589.7  ...                     3415.63                      6483.4                    6997.5                  6369.2\n",
       "1      1.51914e+09         2040.16         44.1504          5585.05  ...                      3415.6                     6483.37                   6997.47                 6369.17\n",
       "2      1.51914e+09         2040.94         44.1901          5592.54  ...                     3415.57                     6483.33                   6997.43                 6369.13\n",
       "3      1.51914e+09         2042.58         44.1855          5595.97  ...                     3415.53                      6483.3                    6997.4                  6369.1\n",
       "4      1.51914e+09          2042.4         44.1582          5592.54  ...                      3415.5                     6483.27                   6997.37                 6369.07\n",
       "...            ...             ...             ...              ...  ...                         ...                         ...                       ...                     ...\n",
       "300209 1.58221e+09          1727.5         40.4375          7743.12  ...                         nan                         nan                       nan                     nan\n",
       "300210 1.58221e+09         1727.66         40.2578          7718.24  ...                         nan                         nan                       nan                     nan\n",
       "300211 1.58221e+09         1728.59          40.375          7781.21  ...                         nan                         nan                       nan                     nan\n",
       "300212 1.58221e+09         1726.09         40.1719          7798.48  ...                         nan                         nan                       nan                     nan\n",
       "300213 1.58221e+09         1726.09         40.1719          7798.48  ...                         nan                         nan                       nan                     nan\n",
       "\n",
       "[300214 rows x 21 columns]"
      ]
     },
     "execution_count": 73,
     "metadata": {},
     "output_type": "execute_result"
    }
   ],
   "source": [
    "labeledplustt"
   ]
  },
  {
   "cell_type": "code",
   "execution_count": null,
   "metadata": {},
   "outputs": [],
   "source": []
  },
  {
   "cell_type": "code",
   "execution_count": null,
   "metadata": {},
   "outputs": [],
   "source": []
  },
  {
   "cell_type": "code",
   "execution_count": null,
   "metadata": {},
   "outputs": [],
   "source": []
  },
  {
   "cell_type": "code",
   "execution_count": null,
   "metadata": {},
   "outputs": [],
   "source": []
  },
  {
   "cell_type": "code",
   "execution_count": null,
   "metadata": {},
   "outputs": [],
   "source": []
  },
  {
   "cell_type": "code",
   "execution_count": null,
   "metadata": {},
   "outputs": [],
   "source": []
  },
  {
   "cell_type": "code",
   "execution_count": 821,
   "metadata": {},
   "outputs": [],
   "source": [
    "for mode in allfailmodes:\n",
    "    labeledplustt[f'{mode} Failure'].fillna(value = 0, inplace = True)\n",
    "    timeonfailure = labeledplustt.loc[labeledplustt[f'{mode} Failure'] == 1]['Time On'].values[-1]\n",
    "    timeonmax = labeledplustt.loc[labeledplustt[f'{mode} Failure'] == 0]['Time On'].values[-1]\n",
    "    timeondiff = timeonmax -timeonfailure\n",
    "    labeledplustt[f'{mode} TT Failure'].fillna(value = timeondiff, inplace = True)"
   ]
  },
  {
   "cell_type": "code",
   "execution_count": 822,
   "metadata": {},
   "outputs": [
    {
     "data": {
      "text/plain": [
       "0             6369.2\n",
       "1            6369.17\n",
       "2            6369.13\n",
       "3             6369.1\n",
       "4            6369.07\n",
       "             ...    \n",
       "300209   1.32514e+07\n",
       "300210   1.32514e+07\n",
       "300211   1.32514e+07\n",
       "300212   1.32514e+07\n",
       "300213   1.32514e+07\n",
       "Name: Cracked_Seal TT Failure, Length: 300214, dtype: float64"
      ]
     },
     "execution_count": 822,
     "metadata": {},
     "output_type": "execute_result"
    }
   ],
   "source": [
    "labeledplustt[f'{mode} TT Failure']"
   ]
  },
  {
   "cell_type": "markdown",
   "metadata": {},
   "source": [
    "weight = []\n",
    "for item in labeledplustt['Condition']:\n",
    "    if item != mode:\n",
    "        weight.append(1)\n",
    "    elif item == mode:\n",
    "        weight.append(1)\n",
    "labeledplustt['Weight'] = weight"
   ]
  },
  {
   "cell_type": "code",
   "execution_count": 823,
   "metadata": {},
   "outputs": [],
   "source": [
    "mode = allfailmodes[3]#'Broken_Valve'\n",
    "from scipy import stats\n",
    "from scipy.optimize import minimize\n",
    "window1 = 60*60*24*14"
   ]
  },
  {
   "cell_type": "code",
   "execution_count": 825,
   "metadata": {},
   "outputs": [
    {
     "data": {
      "text/html": [
       "<div>\n",
       "<style scoped>\n",
       "    .dataframe tbody tr th:only-of-type {\n",
       "        vertical-align: middle;\n",
       "    }\n",
       "\n",
       "    .dataframe tbody tr th {\n",
       "        vertical-align: top;\n",
       "    }\n",
       "\n",
       "    .dataframe thead th {\n",
       "        text-align: right;\n",
       "    }\n",
       "</style>\n",
       "<table border=\"1\" class=\"dataframe\">\n",
       "  <thead>\n",
       "    <tr style=\"text-align: right;\">\n",
       "      <th></th>\n",
       "      <th>Inlet Flowrate</th>\n",
       "      <th>Inlet Pressure</th>\n",
       "      <th>Outlet Pressure</th>\n",
       "      <th>Pump Driver Vibration</th>\n",
       "      <th>Pump Vibration</th>\n",
       "      <th>Broken_Impeller Failure</th>\n",
       "      <th>Broken_Impeller TT Failure</th>\n",
       "    </tr>\n",
       "  </thead>\n",
       "  <tbody>\n",
       "    <tr>\n",
       "      <th>0</th>\n",
       "      <td>2038.95</td>\n",
       "      <td>44.0898</td>\n",
       "      <td>5589.7</td>\n",
       "      <td>0.0721289</td>\n",
       "      <td>0.0225391</td>\n",
       "      <td>1</td>\n",
       "      <td>6483.4</td>\n",
       "    </tr>\n",
       "    <tr>\n",
       "      <th>1</th>\n",
       "      <td>2040.16</td>\n",
       "      <td>44.1504</td>\n",
       "      <td>5585.05</td>\n",
       "      <td>0.0732161</td>\n",
       "      <td>0.0221094</td>\n",
       "      <td>1</td>\n",
       "      <td>6483.37</td>\n",
       "    </tr>\n",
       "    <tr>\n",
       "      <th>2</th>\n",
       "      <td>2040.94</td>\n",
       "      <td>44.1901</td>\n",
       "      <td>5592.54</td>\n",
       "      <td>0.0743359</td>\n",
       "      <td>0.0233984</td>\n",
       "      <td>1</td>\n",
       "      <td>6483.33</td>\n",
       "    </tr>\n",
       "    <tr>\n",
       "      <th>3</th>\n",
       "      <td>2042.58</td>\n",
       "      <td>44.1855</td>\n",
       "      <td>5595.97</td>\n",
       "      <td>0.0743848</td>\n",
       "      <td>0.0225195</td>\n",
       "      <td>1</td>\n",
       "      <td>6483.3</td>\n",
       "    </tr>\n",
       "    <tr>\n",
       "      <th>4</th>\n",
       "      <td>2042.4</td>\n",
       "      <td>44.1582</td>\n",
       "      <td>5592.54</td>\n",
       "      <td>0.0731055</td>\n",
       "      <td>0.0227214</td>\n",
       "      <td>1</td>\n",
       "      <td>6483.27</td>\n",
       "    </tr>\n",
       "    <tr>\n",
       "      <th>...</th>\n",
       "      <td>...</td>\n",
       "      <td>...</td>\n",
       "      <td>...</td>\n",
       "      <td>...</td>\n",
       "      <td>...</td>\n",
       "      <td>...</td>\n",
       "      <td>...</td>\n",
       "    </tr>\n",
       "    <tr>\n",
       "      <th>300209</th>\n",
       "      <td>1727.5</td>\n",
       "      <td>40.4375</td>\n",
       "      <td>7743.12</td>\n",
       "      <td>0.121094</td>\n",
       "      <td>0.0213672</td>\n",
       "      <td>0</td>\n",
       "      <td>1.28402e+07</td>\n",
       "    </tr>\n",
       "    <tr>\n",
       "      <th>300210</th>\n",
       "      <td>1727.66</td>\n",
       "      <td>40.2578</td>\n",
       "      <td>7718.24</td>\n",
       "      <td>0.111328</td>\n",
       "      <td>0.0213672</td>\n",
       "      <td>0</td>\n",
       "      <td>1.28402e+07</td>\n",
       "    </tr>\n",
       "    <tr>\n",
       "      <th>300211</th>\n",
       "      <td>1728.59</td>\n",
       "      <td>40.375</td>\n",
       "      <td>7781.21</td>\n",
       "      <td>0.105977</td>\n",
       "      <td>0.0246875</td>\n",
       "      <td>0</td>\n",
       "      <td>1.28402e+07</td>\n",
       "    </tr>\n",
       "    <tr>\n",
       "      <th>300212</th>\n",
       "      <td>1726.09</td>\n",
       "      <td>40.1719</td>\n",
       "      <td>7798.48</td>\n",
       "      <td>0.111094</td>\n",
       "      <td>0.0246875</td>\n",
       "      <td>0</td>\n",
       "      <td>1.28402e+07</td>\n",
       "    </tr>\n",
       "    <tr>\n",
       "      <th>300213</th>\n",
       "      <td>1726.09</td>\n",
       "      <td>40.1719</td>\n",
       "      <td>7798.48</td>\n",
       "      <td>0.111094</td>\n",
       "      <td>0.0261328</td>\n",
       "      <td>0</td>\n",
       "      <td>1.28402e+07</td>\n",
       "    </tr>\n",
       "  </tbody>\n",
       "</table>\n",
       "<p>300214 rows × 7 columns</p>\n",
       "</div>"
      ],
      "text/plain": [
       "        Inlet Flowrate  Inlet Pressure  Outlet Pressure  Pump Driver Vibration  Pump Vibration  Broken_Impeller Failure  Broken_Impeller TT Failure\n",
       "0              2038.95         44.0898           5589.7              0.0721289       0.0225391                        1                      6483.4\n",
       "1              2040.16         44.1504          5585.05              0.0732161       0.0221094                        1                     6483.37\n",
       "2              2040.94         44.1901          5592.54              0.0743359       0.0233984                        1                     6483.33\n",
       "3              2042.58         44.1855          5595.97              0.0743848       0.0225195                        1                      6483.3\n",
       "4               2042.4         44.1582          5592.54              0.0731055       0.0227214                        1                     6483.27\n",
       "...                ...             ...              ...                    ...             ...                      ...                         ...\n",
       "300209          1727.5         40.4375          7743.12               0.121094       0.0213672                        0                 1.28402e+07\n",
       "300210         1727.66         40.2578          7718.24               0.111328       0.0213672                        0                 1.28402e+07\n",
       "300211         1728.59          40.375          7781.21               0.105977       0.0246875                        0                 1.28402e+07\n",
       "300212         1726.09         40.1719          7798.48               0.111094       0.0246875                        0                 1.28402e+07\n",
       "300213         1726.09         40.1719          7798.48               0.111094       0.0261328                        0                 1.28402e+07\n",
       "\n",
       "[300214 rows x 7 columns]"
      ]
     },
     "execution_count": 825,
     "metadata": {},
     "output_type": "execute_result"
    }
   ],
   "source": [
    "labeledplustt[availvars + [f'{mode} Failure',f'{mode} TT Failure']]"
   ]
  },
  {
   "cell_type": "markdown",
   "metadata": {},
   "source": [
    "mode = allfailmodes[0]#'Broken_Valve'\n",
    "from scipy import stats\n",
    "from scipy.optimize import minimize\n",
    "window1 = 60*60*24*14"
   ]
  },
  {
   "cell_type": "code",
   "execution_count": null,
   "metadata": {},
   "outputs": [],
   "source": []
  },
  {
   "cell_type": "code",
   "execution_count": 799,
   "metadata": {},
   "outputs": [
    {
     "data": {
      "text/plain": [
       "1    193582\n",
       "0    106632\n",
       "Name: Broken_Impeller Failure, dtype: int64"
      ]
     },
     "execution_count": 799,
     "metadata": {},
     "output_type": "execute_result"
    }
   ],
   "source": [
    "labeledplustt[availvars + [f'{mode} Failure','Time On']][f'{mode} Failure'].value_counts()"
   ]
  },
  {
   "cell_type": "markdown",
   "metadata": {},
   "source": [
    "df = labeledplustt[availvars + [f'{mode} Failure','Time On']]#,'Weight']]\n",
    "stopindex = df[df[f'{mode} Failure'] == 1].index.max()\n",
    "startindex = df[df[f'{mode} Failure'] == 1].index.max() - int(window1/binsize)\n",
    "df = df[startindex:stopindex+1]\n",
    "\n",
    "#df.drop(f'{mode} Failure', axis = 1, inplace = True)\n",
    "df"
   ]
  },
  {
   "cell_type": "markdown",
   "metadata": {},
   "source": [
    "dfminusmean = df[availvars] - df[availvars].mean()"
   ]
  },
  {
   "cell_type": "markdown",
   "metadata": {},
   "source": [
    "dfminusmean['Time On'] = df['Time On'] - df['Time On'].min()"
   ]
  },
  {
   "cell_type": "markdown",
   "metadata": {},
   "source": [
    "df = dfminusmean"
   ]
  },
  {
   "cell_type": "markdown",
   "metadata": {},
   "source": [
    "window2 = 60*60*4\n"
   ]
  },
  {
   "cell_type": "markdown",
   "metadata": {},
   "source": [
    "a = df"
   ]
  },
  {
   "cell_type": "markdown",
   "metadata": {},
   "source": [
    "a =a.groupby(np.arange(len(df))//(window2/binsize)).mean()"
   ]
  },
  {
   "cell_type": "markdown",
   "metadata": {},
   "source": [
    "df[df[f'{mode} Failure'] == 1].index.values.tolist()\n",
    "fails\n",
    "df[df[f'{mode} Failure'] == 0].index.values.tolist()"
   ]
  },
  {
   "cell_type": "markdown",
   "metadata": {},
   "source": [
    "indices = [0]\n",
    "h0 = [0.001]\n",
    "for i in range(len(df[f'{mode} Failure'])):\n",
    "    item = df[f'{mode} Failure'].iloc[i]\n",
    "    if item == 1:\n",
    "        h0.append(1)\n",
    "        indices.append(i)\n",
    "    elif item != 0:\n",
    "        h0.append(item)\n",
    "        indices.append(i)\n",
    "        \n",
    "    else:\n",
    "        if h0[-1] == 1:\n",
    "            h0.append(0.001)\n",
    "            indices.append(i)"
   ]
  },
  {
   "cell_type": "markdown",
   "metadata": {},
   "source": [
    "h0"
   ]
  },
  {
   "cell_type": "markdown",
   "metadata": {},
   "source": [
    "t = (df['Time On'] - df['Time On'].min()).tolist() #- df['Time On'].values.tolist()\n",
    "z = np.array(df.drop([f'{mode} Failure', 'Time On'], axis = 1).values.tolist())\n",
    "z"
   ]
  },
  {
   "cell_type": "markdown",
   "metadata": {},
   "source": [
    "def sum_squares(args):\n",
    "\n",
    "    beta = np.array(args[0])\n",
    "    eta = np.array(args[1])\n",
    "    gamma = np.array(args[2:])\n",
    "   \n",
    "    r = []\n",
    "    \n",
    "    for i in range(len(indices)):\n",
    "        hnow = h0[i]\n",
    "        indexnow = indices[i]\n",
    "        variables = z[indexnow]\n",
    "        \n",
    "        gz = np.dot(variables,gamma)\n",
    "        haz = ((beta/eta)*((t[indexnow]/eta)**(beta-1)) * np.exp(-gz))\n",
    "        #print(haz)\n",
    "        r.append((hnow - haz)**2)\n",
    "        #print((hnow - haz))\n",
    "        #print(gz)\n",
    "        gz = 0\n",
    "        #print(hnow - haz)\n",
    "        \n",
    "    return sum(r)"
   ]
  },
  {
   "cell_type": "markdown",
   "metadata": {},
   "source": [
    "from random import random"
   ]
  },
  {
   "cell_type": "markdown",
   "metadata": {},
   "source": [
    "#haz = [10]\n",
    "argstart = [randrange(1,10),randrange(1,10000),0.000001*random(),0.000001*random(),0.000001*random(),0.000001*random(),0.000001*random()]\n",
    "bnds = ((1.01,10), (1.01,100000), (-10000,10000), (-10000,10000), (-10000,10000), (-10000,10000), (-10000,10000))\n",
    "#while max(haz)> 1 or sum(haz)/len(haz) < 0.001 or np.isnan(sum(haz)):\n",
    "#argstart[0] += .1\n",
    "#argstart[1] += 10\n",
    "params = minimize(sum_squares, argstart, tol = 1000)\n",
    "args = params.x.tolist()\n",
    "beta = np.array(args[0])\n",
    "eta = np.array(args[1])\n",
    "gamma = np.array(args[2:])\n",
    "xs = df[availvars].values\n",
    "t = df['Time On'].values\n",
    "haz = (beta/eta)*((t/eta)**(beta-1))*np.exp(-np.dot(xs,gamma))\n",
    "\n",
    "\n",
    "\n",
    "    \n",
    "    \n",
    "    "
   ]
  },
  {
   "cell_type": "markdown",
   "metadata": {},
   "source": [
    "argstart"
   ]
  },
  {
   "cell_type": "markdown",
   "metadata": {},
   "source": [
    "params"
   ]
  },
  {
   "cell_type": "markdown",
   "metadata": {},
   "source": [
    "print(mode)\n",
    "args"
   ]
  },
  {
   "cell_type": "markdown",
   "metadata": {},
   "source": [
    "plt.plot(haz)"
   ]
  },
  {
   "cell_type": "markdown",
   "metadata": {},
   "source": [
    "haz"
   ]
  },
  {
   "cell_type": "markdown",
   "metadata": {},
   "source": []
  },
  {
   "cell_type": "code",
   "execution_count": 800,
   "metadata": {},
   "outputs": [
    {
     "data": {
      "text/html": [
       "<div>\n",
       "<style scoped>\n",
       "    .dataframe tbody tr th:only-of-type {\n",
       "        vertical-align: middle;\n",
       "    }\n",
       "\n",
       "    .dataframe tbody tr th {\n",
       "        vertical-align: top;\n",
       "    }\n",
       "\n",
       "    .dataframe thead th {\n",
       "        text-align: right;\n",
       "    }\n",
       "</style>\n",
       "<table border=\"1\" class=\"dataframe\">\n",
       "  <thead>\n",
       "    <tr style=\"text-align: right;\">\n",
       "      <th></th>\n",
       "      <th>Time</th>\n",
       "      <th>Inlet Flowrate</th>\n",
       "      <th>Inlet Pressure</th>\n",
       "      <th>Outlet Pressure</th>\n",
       "      <th>...</th>\n",
       "      <th>Broken_Impeller TT Failure</th>\n",
       "      <th>Leaking_Valve TT Failure</th>\n",
       "      <th>Cracked_Seal TT Failure</th>\n",
       "      <th>Weight</th>\n",
       "    </tr>\n",
       "  </thead>\n",
       "  <tbody>\n",
       "    <tr>\n",
       "      <th>0</th>\n",
       "      <td>1.51914e+09</td>\n",
       "      <td>2038.95</td>\n",
       "      <td>44.0898</td>\n",
       "      <td>5589.7</td>\n",
       "      <td>...</td>\n",
       "      <td>6483.4</td>\n",
       "      <td>6948.97</td>\n",
       "      <td>6369.2</td>\n",
       "      <td>1</td>\n",
       "    </tr>\n",
       "    <tr>\n",
       "      <th>1</th>\n",
       "      <td>1.51914e+09</td>\n",
       "      <td>2040.16</td>\n",
       "      <td>44.1504</td>\n",
       "      <td>5585.05</td>\n",
       "      <td>...</td>\n",
       "      <td>6483.37</td>\n",
       "      <td>6948.93</td>\n",
       "      <td>6369.17</td>\n",
       "      <td>1</td>\n",
       "    </tr>\n",
       "    <tr>\n",
       "      <th>2</th>\n",
       "      <td>1.51914e+09</td>\n",
       "      <td>2040.94</td>\n",
       "      <td>44.1901</td>\n",
       "      <td>5592.54</td>\n",
       "      <td>...</td>\n",
       "      <td>6483.33</td>\n",
       "      <td>6948.9</td>\n",
       "      <td>6369.13</td>\n",
       "      <td>1</td>\n",
       "    </tr>\n",
       "    <tr>\n",
       "      <th>3</th>\n",
       "      <td>1.51914e+09</td>\n",
       "      <td>2042.58</td>\n",
       "      <td>44.1855</td>\n",
       "      <td>5595.97</td>\n",
       "      <td>...</td>\n",
       "      <td>6483.3</td>\n",
       "      <td>6948.87</td>\n",
       "      <td>6369.1</td>\n",
       "      <td>1</td>\n",
       "    </tr>\n",
       "    <tr>\n",
       "      <th>4</th>\n",
       "      <td>1.51914e+09</td>\n",
       "      <td>2042.4</td>\n",
       "      <td>44.1582</td>\n",
       "      <td>5592.54</td>\n",
       "      <td>...</td>\n",
       "      <td>6483.27</td>\n",
       "      <td>6948.83</td>\n",
       "      <td>6369.07</td>\n",
       "      <td>1</td>\n",
       "    </tr>\n",
       "    <tr>\n",
       "      <th>...</th>\n",
       "      <td>...</td>\n",
       "      <td>...</td>\n",
       "      <td>...</td>\n",
       "      <td>...</td>\n",
       "      <td>...</td>\n",
       "      <td>...</td>\n",
       "      <td>...</td>\n",
       "      <td>...</td>\n",
       "      <td>...</td>\n",
       "    </tr>\n",
       "    <tr>\n",
       "      <th>300209</th>\n",
       "      <td>1.58221e+09</td>\n",
       "      <td>1727.5</td>\n",
       "      <td>40.4375</td>\n",
       "      <td>7743.12</td>\n",
       "      <td>...</td>\n",
       "      <td>1.28402e+07</td>\n",
       "      <td>1.11642e+07</td>\n",
       "      <td>1.32514e+07</td>\n",
       "      <td>1</td>\n",
       "    </tr>\n",
       "    <tr>\n",
       "      <th>300210</th>\n",
       "      <td>1.58221e+09</td>\n",
       "      <td>1727.66</td>\n",
       "      <td>40.2578</td>\n",
       "      <td>7718.24</td>\n",
       "      <td>...</td>\n",
       "      <td>1.28402e+07</td>\n",
       "      <td>1.11642e+07</td>\n",
       "      <td>1.32514e+07</td>\n",
       "      <td>1</td>\n",
       "    </tr>\n",
       "    <tr>\n",
       "      <th>300211</th>\n",
       "      <td>1.58221e+09</td>\n",
       "      <td>1728.59</td>\n",
       "      <td>40.375</td>\n",
       "      <td>7781.21</td>\n",
       "      <td>...</td>\n",
       "      <td>1.28402e+07</td>\n",
       "      <td>1.11642e+07</td>\n",
       "      <td>1.32514e+07</td>\n",
       "      <td>1</td>\n",
       "    </tr>\n",
       "    <tr>\n",
       "      <th>300212</th>\n",
       "      <td>1.58221e+09</td>\n",
       "      <td>1726.09</td>\n",
       "      <td>40.1719</td>\n",
       "      <td>7798.48</td>\n",
       "      <td>...</td>\n",
       "      <td>1.28402e+07</td>\n",
       "      <td>1.11642e+07</td>\n",
       "      <td>1.32514e+07</td>\n",
       "      <td>1</td>\n",
       "    </tr>\n",
       "    <tr>\n",
       "      <th>300213</th>\n",
       "      <td>1.58221e+09</td>\n",
       "      <td>1726.09</td>\n",
       "      <td>40.1719</td>\n",
       "      <td>7798.48</td>\n",
       "      <td>...</td>\n",
       "      <td>1.28402e+07</td>\n",
       "      <td>1.11642e+07</td>\n",
       "      <td>1.32514e+07</td>\n",
       "      <td>1</td>\n",
       "    </tr>\n",
       "  </tbody>\n",
       "</table>\n",
       "<p>300214 rows × 22 columns</p>\n",
       "</div>"
      ],
      "text/plain": [
       "              Time  Inlet Flowrate  Inlet Pressure  Outlet Pressure  ...  Broken_Impeller TT Failure  Leaking_Valve TT Failure  Cracked_Seal TT Failure Weight\n",
       "0      1.51914e+09         2038.95         44.0898           5589.7  ...                      6483.4                   6948.97                   6369.2      1\n",
       "1      1.51914e+09         2040.16         44.1504          5585.05  ...                     6483.37                   6948.93                  6369.17      1\n",
       "2      1.51914e+09         2040.94         44.1901          5592.54  ...                     6483.33                    6948.9                  6369.13      1\n",
       "3      1.51914e+09         2042.58         44.1855          5595.97  ...                      6483.3                   6948.87                   6369.1      1\n",
       "4      1.51914e+09          2042.4         44.1582          5592.54  ...                     6483.27                   6948.83                  6369.07      1\n",
       "...            ...             ...             ...              ...  ...                         ...                       ...                      ...    ...\n",
       "300209 1.58221e+09          1727.5         40.4375          7743.12  ...                 1.28402e+07               1.11642e+07              1.32514e+07      1\n",
       "300210 1.58221e+09         1727.66         40.2578          7718.24  ...                 1.28402e+07               1.11642e+07              1.32514e+07      1\n",
       "300211 1.58221e+09         1728.59          40.375          7781.21  ...                 1.28402e+07               1.11642e+07              1.32514e+07      1\n",
       "300212 1.58221e+09         1726.09         40.1719          7798.48  ...                 1.28402e+07               1.11642e+07              1.32514e+07      1\n",
       "300213 1.58221e+09         1726.09         40.1719          7798.48  ...                 1.28402e+07               1.11642e+07              1.32514e+07      1\n",
       "\n",
       "[300214 rows x 22 columns]"
      ]
     },
     "execution_count": 800,
     "metadata": {},
     "output_type": "execute_result"
    }
   ],
   "source": [
    "labeledplustt"
   ]
  },
  {
   "cell_type": "code",
   "execution_count": 801,
   "metadata": {},
   "outputs": [],
   "source": [
    "from lifelines import CoxPHFitter"
   ]
  },
  {
   "cell_type": "code",
   "execution_count": 802,
   "metadata": {},
   "outputs": [],
   "source": [
    "aft = WeibullAFTFitter(penalizer = 0)\n",
    "dfwb = pd.DataFrame(labeledplustt[availvars + [f'{mode} Failure',f'{mode} TT Failure']])#,'Weight']])\n",
    "#stopindex = dfwb[dfwb[f'{mode} Failure'] == 1].index.max()"
   ]
  },
  {
   "cell_type": "code",
   "execution_count": 810,
   "metadata": {},
   "outputs": [],
   "source": [
    "#dfwb = dfwb[0:stopindex+1]\n",
    "df = pd.DataFrame(labeledplustt[availvars + [f'{mode} Failure',f'{mode} TT Failure', 'Time On']])\n",
    "window2 = 60*60\n",
    "\n",
    "\n",
    "a = df\n",
    "\n",
    "a =a.groupby(np.arange(len(df))//(window2/binsize))[availvars].mean()\n",
    "df = a\n",
    "a = dfwb\n",
    "\n",
    "a =a.groupby(np.arange(len(dfwb))//(window2/binsize))[availvars].mean()\n"
   ]
  },
  {
   "cell_type": "code",
   "execution_count": 811,
   "metadata": {},
   "outputs": [
    {
     "data": {
      "text/html": [
       "<div>\n",
       "<style scoped>\n",
       "    .dataframe tbody tr th:only-of-type {\n",
       "        vertical-align: middle;\n",
       "    }\n",
       "\n",
       "    .dataframe tbody tr th {\n",
       "        vertical-align: top;\n",
       "    }\n",
       "\n",
       "    .dataframe thead th {\n",
       "        text-align: right;\n",
       "    }\n",
       "</style>\n",
       "<table border=\"1\" class=\"dataframe\">\n",
       "  <thead>\n",
       "    <tr style=\"text-align: right;\">\n",
       "      <th></th>\n",
       "      <th>Inlet Flowrate</th>\n",
       "      <th>Inlet Pressure</th>\n",
       "      <th>Outlet Pressure</th>\n",
       "      <th>Pump Driver Vibration</th>\n",
       "      <th>Pump Vibration</th>\n",
       "    </tr>\n",
       "  </thead>\n",
       "  <tbody>\n",
       "    <tr>\n",
       "      <th>0</th>\n",
       "      <td>2041.38</td>\n",
       "      <td>44.046</td>\n",
       "      <td>5588.37</td>\n",
       "      <td>0.0758224</td>\n",
       "      <td>0.0224666</td>\n",
       "    </tr>\n",
       "    <tr>\n",
       "      <th>1</th>\n",
       "      <td>2042.17</td>\n",
       "      <td>43.9653</td>\n",
       "      <td>5593.89</td>\n",
       "      <td>0.0762287</td>\n",
       "      <td>0.0229077</td>\n",
       "    </tr>\n",
       "    <tr>\n",
       "      <th>2</th>\n",
       "      <td>1957.42</td>\n",
       "      <td>42.4414</td>\n",
       "      <td>5897.37</td>\n",
       "      <td>0.0731495</td>\n",
       "      <td>0.0230965</td>\n",
       "    </tr>\n",
       "    <tr>\n",
       "      <th>3</th>\n",
       "      <td>1924.1</td>\n",
       "      <td>43.2457</td>\n",
       "      <td>6024.02</td>\n",
       "      <td>0.104559</td>\n",
       "      <td>0.0220358</td>\n",
       "    </tr>\n",
       "    <tr>\n",
       "      <th>4</th>\n",
       "      <td>1923.92</td>\n",
       "      <td>42.788</td>\n",
       "      <td>6018.01</td>\n",
       "      <td>0.0741653</td>\n",
       "      <td>0.0207317</td>\n",
       "    </tr>\n",
       "    <tr>\n",
       "      <th>...</th>\n",
       "      <td>...</td>\n",
       "      <td>...</td>\n",
       "      <td>...</td>\n",
       "      <td>...</td>\n",
       "      <td>...</td>\n",
       "    </tr>\n",
       "    <tr>\n",
       "      <th>6448</th>\n",
       "      <td>1908.32</td>\n",
       "      <td>45.6573</td>\n",
       "      <td>6781.89</td>\n",
       "      <td>0.172391</td>\n",
       "      <td>0.0615885</td>\n",
       "    </tr>\n",
       "    <tr>\n",
       "      <th>6449</th>\n",
       "      <td>1903.29</td>\n",
       "      <td>45.4391</td>\n",
       "      <td>6902.64</td>\n",
       "      <td>0.158924</td>\n",
       "      <td>0.061694</td>\n",
       "    </tr>\n",
       "    <tr>\n",
       "      <th>6450</th>\n",
       "      <td>1878.33</td>\n",
       "      <td>40.987</td>\n",
       "      <td>6901.48</td>\n",
       "      <td>0.149949</td>\n",
       "      <td>0.0551758</td>\n",
       "    </tr>\n",
       "    <tr>\n",
       "      <th>6451</th>\n",
       "      <td>1881.23</td>\n",
       "      <td>40.801</td>\n",
       "      <td>6649.79</td>\n",
       "      <td>0.14726</td>\n",
       "      <td>0.0543477</td>\n",
       "    </tr>\n",
       "    <tr>\n",
       "      <th>6452</th>\n",
       "      <td>1908.58</td>\n",
       "      <td>40.2145</td>\n",
       "      <td>6694.28</td>\n",
       "      <td>0.153638</td>\n",
       "      <td>0.0559961</td>\n",
       "    </tr>\n",
       "  </tbody>\n",
       "</table>\n",
       "<p>6453 rows × 5 columns</p>\n",
       "</div>"
      ],
      "text/plain": [
       "      Inlet Flowrate  Inlet Pressure  Outlet Pressure  Pump Driver Vibration  Pump Vibration\n",
       "0            2041.38          44.046          5588.37              0.0758224       0.0224666\n",
       "1            2042.17         43.9653          5593.89              0.0762287       0.0229077\n",
       "2            1957.42         42.4414          5897.37              0.0731495       0.0230965\n",
       "3             1924.1         43.2457          6024.02               0.104559       0.0220358\n",
       "4            1923.92          42.788          6018.01              0.0741653       0.0207317\n",
       "...              ...             ...              ...                    ...             ...\n",
       "6448         1908.32         45.6573          6781.89               0.172391       0.0615885\n",
       "6449         1903.29         45.4391          6902.64               0.158924        0.061694\n",
       "6450         1878.33          40.987          6901.48               0.149949       0.0551758\n",
       "6451         1881.23          40.801          6649.79                0.14726       0.0543477\n",
       "6452         1908.58         40.2145          6694.28               0.153638       0.0559961\n",
       "\n",
       "[6453 rows x 5 columns]"
      ]
     },
     "execution_count": 811,
     "metadata": {},
     "output_type": "execute_result"
    }
   ],
   "source": [
    "a"
   ]
  },
  {
   "cell_type": "markdown",
   "metadata": {},
   "source": [
    "df['Time On'] -= df['Time On'].min()"
   ]
  },
  {
   "cell_type": "code",
   "execution_count": 804,
   "metadata": {},
   "outputs": [],
   "source": [
    "window1 == 60*60*24*7\n",
    "\n",
    "stopindex = df[df[f'{mode} Failure'] == 1].index.max()\n",
    "startindex = df[df[f'{mode} Failure'] == 1].index.max() - int(window1/binsize)\n",
    "df = df[0:stopindex+1]\n",
    "stopindex = dfwb[dfwb[f'{mode} Failure'] == 1].index.max()\n",
    "startindex = dfwb[dfwb[f'{mode} Failure'] == 1].index.max() - int(window1/binsize)\n",
    "dfwb = pd.DataFrame(dfwb[0:stopindex+1])"
   ]
  },
  {
   "cell_type": "markdown",
   "metadata": {},
   "source": [
    "dfwb.drop(dfwb.index.max(), inplace = True)"
   ]
  },
  {
   "cell_type": "code",
   "execution_count": 805,
   "metadata": {},
   "outputs": [
    {
     "ename": "IndexError",
     "evalue": "index 7 is out of bounds for axis 0 with size 7",
     "output_type": "error",
     "traceback": [
      "\u001b[1;31m---------------------------------------------------------------------------\u001b[0m",
      "\u001b[1;31mIndexError\u001b[0m                                Traceback (most recent call last)",
      "\u001b[1;32m<ipython-input-805-ff15be5119df>\u001b[0m in \u001b[0;36m<module>\u001b[1;34m\u001b[0m\n\u001b[1;32m----> 1\u001b[1;33m \u001b[0mplt\u001b[0m\u001b[1;33m.\u001b[0m\u001b[0mplot\u001b[0m\u001b[1;33m(\u001b[0m\u001b[0mdfwb\u001b[0m\u001b[1;33m[\u001b[0m\u001b[0mdfwb\u001b[0m\u001b[1;33m.\u001b[0m\u001b[0mcolumns\u001b[0m\u001b[1;33m[\u001b[0m\u001b[1;36m7\u001b[0m\u001b[1;33m]\u001b[0m\u001b[1;33m]\u001b[0m\u001b[1;33m)\u001b[0m\u001b[1;33m\u001b[0m\u001b[1;33m\u001b[0m\u001b[0m\n\u001b[0m",
      "\u001b[1;32m~\\anaconda3\\lib\\site-packages\\pandas\\core\\indexes\\base.py\u001b[0m in \u001b[0;36m__getitem__\u001b[1;34m(self, key)\u001b[0m\n\u001b[0;32m   4099\u001b[0m         \u001b[1;32mif\u001b[0m \u001b[0mis_scalar\u001b[0m\u001b[1;33m(\u001b[0m\u001b[0mkey\u001b[0m\u001b[1;33m)\u001b[0m\u001b[1;33m:\u001b[0m\u001b[1;33m\u001b[0m\u001b[1;33m\u001b[0m\u001b[0m\n\u001b[0;32m   4100\u001b[0m             \u001b[0mkey\u001b[0m \u001b[1;33m=\u001b[0m \u001b[0mcom\u001b[0m\u001b[1;33m.\u001b[0m\u001b[0mcast_scalar_indexer\u001b[0m\u001b[1;33m(\u001b[0m\u001b[0mkey\u001b[0m\u001b[1;33m,\u001b[0m \u001b[0mwarn_float\u001b[0m\u001b[1;33m=\u001b[0m\u001b[1;32mTrue\u001b[0m\u001b[1;33m)\u001b[0m\u001b[1;33m\u001b[0m\u001b[1;33m\u001b[0m\u001b[0m\n\u001b[1;32m-> 4101\u001b[1;33m             \u001b[1;32mreturn\u001b[0m \u001b[0mgetitem\u001b[0m\u001b[1;33m(\u001b[0m\u001b[0mkey\u001b[0m\u001b[1;33m)\u001b[0m\u001b[1;33m\u001b[0m\u001b[1;33m\u001b[0m\u001b[0m\n\u001b[0m\u001b[0;32m   4102\u001b[0m \u001b[1;33m\u001b[0m\u001b[0m\n\u001b[0;32m   4103\u001b[0m         \u001b[1;32mif\u001b[0m \u001b[0misinstance\u001b[0m\u001b[1;33m(\u001b[0m\u001b[0mkey\u001b[0m\u001b[1;33m,\u001b[0m \u001b[0mslice\u001b[0m\u001b[1;33m)\u001b[0m\u001b[1;33m:\u001b[0m\u001b[1;33m\u001b[0m\u001b[1;33m\u001b[0m\u001b[0m\n",
      "\u001b[1;31mIndexError\u001b[0m: index 7 is out of bounds for axis 0 with size 7"
     ]
    }
   ],
   "source": [
    "plt.plot(dfwb[dfwb.columns[7]])"
   ]
  },
  {
   "cell_type": "markdown",
   "metadata": {},
   "source": [
    "dfwb.drop(290, inplace =True)"
   ]
  },
  {
   "cell_type": "markdown",
   "metadata": {},
   "source": [
    "df.drop(290, inplace =True)"
   ]
  },
  {
   "cell_type": "code",
   "execution_count": 806,
   "metadata": {},
   "outputs": [
    {
     "data": {
      "text/plain": [
       "[<matplotlib.lines.Line2D at 0x27e43ee3af0>]"
      ]
     },
     "execution_count": 806,
     "metadata": {},
     "output_type": "execute_result"
    },
    {
     "data": {
      "image/png": "[encoded data removed]",
      "text/plain": [
       "<Figure size 432x288 with 1 Axes>"
      ]
     },
     "metadata": {
      "needs_background": "light"
     },
     "output_type": "display_data"
    }
   ],
   "source": [
    "plt.plot(dfwb[dfwb.columns[6]])"
   ]
  },
  {
   "cell_type": "code",
   "execution_count": 807,
   "metadata": {},
   "outputs": [
    {
     "data": {
      "text/html": [
       "<div>\n",
       "<style scoped>\n",
       "    .dataframe tbody tr th:only-of-type {\n",
       "        vertical-align: middle;\n",
       "    }\n",
       "\n",
       "    .dataframe tbody tr th {\n",
       "        vertical-align: top;\n",
       "    }\n",
       "\n",
       "    .dataframe thead th {\n",
       "        text-align: right;\n",
       "    }\n",
       "</style>\n",
       "<table border=\"1\" class=\"dataframe\">\n",
       "  <thead>\n",
       "    <tr style=\"text-align: right;\">\n",
       "      <th></th>\n",
       "      <th>Inlet Flowrate</th>\n",
       "      <th>Inlet Pressure</th>\n",
       "      <th>Outlet Pressure</th>\n",
       "      <th>Pump Driver Vibration</th>\n",
       "      <th>Pump Vibration</th>\n",
       "      <th>Broken_Impeller Failure</th>\n",
       "      <th>Broken_Impeller TT Failure</th>\n",
       "    </tr>\n",
       "  </thead>\n",
       "  <tbody>\n",
       "    <tr>\n",
       "      <th>0</th>\n",
       "      <td>2038.95</td>\n",
       "      <td>44.0898</td>\n",
       "      <td>5589.7</td>\n",
       "      <td>0.0721289</td>\n",
       "      <td>0.0225391</td>\n",
       "      <td>1</td>\n",
       "      <td>6483.4</td>\n",
       "    </tr>\n",
       "    <tr>\n",
       "      <th>1</th>\n",
       "      <td>2040.16</td>\n",
       "      <td>44.1504</td>\n",
       "      <td>5585.05</td>\n",
       "      <td>0.0732161</td>\n",
       "      <td>0.0221094</td>\n",
       "      <td>1</td>\n",
       "      <td>6483.37</td>\n",
       "    </tr>\n",
       "    <tr>\n",
       "      <th>2</th>\n",
       "      <td>2040.94</td>\n",
       "      <td>44.1901</td>\n",
       "      <td>5592.54</td>\n",
       "      <td>0.0743359</td>\n",
       "      <td>0.0233984</td>\n",
       "      <td>1</td>\n",
       "      <td>6483.33</td>\n",
       "    </tr>\n",
       "    <tr>\n",
       "      <th>3</th>\n",
       "      <td>2042.58</td>\n",
       "      <td>44.1855</td>\n",
       "      <td>5595.97</td>\n",
       "      <td>0.0743848</td>\n",
       "      <td>0.0225195</td>\n",
       "      <td>1</td>\n",
       "      <td>6483.3</td>\n",
       "    </tr>\n",
       "    <tr>\n",
       "      <th>4</th>\n",
       "      <td>2042.4</td>\n",
       "      <td>44.1582</td>\n",
       "      <td>5592.54</td>\n",
       "      <td>0.0731055</td>\n",
       "      <td>0.0227214</td>\n",
       "      <td>1</td>\n",
       "      <td>6483.27</td>\n",
       "    </tr>\n",
       "    <tr>\n",
       "      <th>...</th>\n",
       "      <td>...</td>\n",
       "      <td>...</td>\n",
       "      <td>...</td>\n",
       "      <td>...</td>\n",
       "      <td>...</td>\n",
       "      <td>...</td>\n",
       "      <td>...</td>\n",
       "    </tr>\n",
       "    <tr>\n",
       "      <th>193577</th>\n",
       "      <td>1938.75</td>\n",
       "      <td>40.6797</td>\n",
       "      <td>4999.92</td>\n",
       "      <td>0.178438</td>\n",
       "      <td>0.0544531</td>\n",
       "      <td>1</td>\n",
       "      <td>0.133611</td>\n",
       "    </tr>\n",
       "    <tr>\n",
       "      <th>193578</th>\n",
       "      <td>1940</td>\n",
       "      <td>40.6875</td>\n",
       "      <td>7003.75</td>\n",
       "      <td>0.135781</td>\n",
       "      <td>0.0519922</td>\n",
       "      <td>1</td>\n",
       "      <td>0.100278</td>\n",
       "    </tr>\n",
       "    <tr>\n",
       "      <th>193579</th>\n",
       "      <td>1937.81</td>\n",
       "      <td>40.6406</td>\n",
       "      <td>6954.49</td>\n",
       "      <td>0.181484</td>\n",
       "      <td>0.0519922</td>\n",
       "      <td>1</td>\n",
       "      <td>0.0669444</td>\n",
       "    </tr>\n",
       "    <tr>\n",
       "      <th>193580</th>\n",
       "      <td>1938.75</td>\n",
       "      <td>40.5469</td>\n",
       "      <td>7050.98</td>\n",
       "      <td>0.146328</td>\n",
       "      <td>0.0504687</td>\n",
       "      <td>1</td>\n",
       "      <td>0.0336111</td>\n",
       "    </tr>\n",
       "    <tr>\n",
       "      <th>193581</th>\n",
       "      <td>1937.5</td>\n",
       "      <td>40.5391</td>\n",
       "      <td>6772.7</td>\n",
       "      <td>0.147852</td>\n",
       "      <td>0.0522266</td>\n",
       "      <td>1</td>\n",
       "      <td>0.000277778</td>\n",
       "    </tr>\n",
       "  </tbody>\n",
       "</table>\n",
       "<p>193582 rows × 7 columns</p>\n",
       "</div>"
      ],
      "text/plain": [
       "        Inlet Flowrate  Inlet Pressure  Outlet Pressure  Pump Driver Vibration  Pump Vibration  Broken_Impeller Failure  Broken_Impeller TT Failure\n",
       "0              2038.95         44.0898           5589.7              0.0721289       0.0225391                        1                      6483.4\n",
       "1              2040.16         44.1504          5585.05              0.0732161       0.0221094                        1                     6483.37\n",
       "2              2040.94         44.1901          5592.54              0.0743359       0.0233984                        1                     6483.33\n",
       "3              2042.58         44.1855          5595.97              0.0743848       0.0225195                        1                      6483.3\n",
       "4               2042.4         44.1582          5592.54              0.0731055       0.0227214                        1                     6483.27\n",
       "...                ...             ...              ...                    ...             ...                      ...                         ...\n",
       "193577         1938.75         40.6797          4999.92               0.178438       0.0544531                        1                    0.133611\n",
       "193578            1940         40.6875          7003.75               0.135781       0.0519922                        1                    0.100278\n",
       "193579         1937.81         40.6406          6954.49               0.181484       0.0519922                        1                   0.0669444\n",
       "193580         1938.75         40.5469          7050.98               0.146328       0.0504687                        1                   0.0336111\n",
       "193581          1937.5         40.5391           6772.7               0.147852       0.0522266                        1                 0.000277778\n",
       "\n",
       "[193582 rows x 7 columns]"
      ]
     },
     "execution_count": 807,
     "metadata": {},
     "output_type": "execute_result"
    }
   ],
   "source": [
    "dfwb"
   ]
  },
  {
   "cell_type": "markdown",
   "metadata": {},
   "source": [
    "weights = np.ones(len(dfwb)).tolist()\n",
    "weights.pop()\n",
    "weights.append(10)\n",
    "dfwb['Weight'] = weights\n",
    "dfwb.drop('Weight',axis = 1, inplace = True)"
   ]
  },
  {
   "cell_type": "code",
   "execution_count": 808,
   "metadata": {},
   "outputs": [
    {
     "data": {
      "text/plain": [
       "[<matplotlib.lines.Line2D at 0x27e43f1c6d0>]"
      ]
     },
     "execution_count": 808,
     "metadata": {},
     "output_type": "execute_result"
    },
    {
     "data": {
      "image/png": "[encoded data removed]",
      "text/plain": [
       "<Figure size 432x288 with 1 Axes>"
      ]
     },
     "metadata": {
      "needs_background": "light"
     },
     "output_type": "display_data"
    }
   ],
   "source": [
    "plt.plot(dfwb[dfwb.columns[5]])"
   ]
  },
  {
   "cell_type": "code",
   "execution_count": 809,
   "metadata": {},
   "outputs": [
    {
     "name": "stdout",
     "output_type": "stream",
     "text": [
      "None\n"
     ]
    },
    {
     "ename": "ConvergenceError",
     "evalue": "Fitting did not converge. Try the following:\n\n0. Are there any lifelines warnings outputted during the `fit`?\n1. Inspect your DataFrame: does everything look as expected?\n2. Try scaling your duration vector down, i.e. `df[duration_col] = df[duration_col]/100`\n3. Is there high-collinearity in the dataset? Try using the variance inflation factor (VIF) to find redundant variables.\n4. Try using an alternate minimizer: ``fitter._scipy_fit_method = \"SLSQP\"``.\n5. Trying adding a small penalizer (or changing it, if already present). Example: `WeibullAFTFitter(penalizer=0.01).fit(...)`.\n6. Are there any extreme outliers? Try modeling them or dropping them to see if it helps convergence.\n",
     "output_type": "error",
     "traceback": [
      "\u001b[1;31m---------------------------------------------------------------------------\u001b[0m",
      "\u001b[1;31mConvergenceError\u001b[0m                          Traceback (most recent call last)",
      "\u001b[1;32m<ipython-input-809-3020ee91c59d>\u001b[0m in \u001b[0;36m<module>\u001b[1;34m\u001b[0m\n\u001b[1;32m----> 1\u001b[1;33m \u001b[0maft\u001b[0m\u001b[1;33m.\u001b[0m\u001b[0mfit\u001b[0m\u001b[1;33m(\u001b[0m\u001b[0mdfwb\u001b[0m\u001b[1;33m,\u001b[0m \u001b[0mduration_col\u001b[0m \u001b[1;33m=\u001b[0m \u001b[1;34mf'{mode} TT Failure'\u001b[0m\u001b[1;33m,\u001b[0m \u001b[0mevent_col\u001b[0m \u001b[1;33m=\u001b[0m \u001b[1;34mf'{mode} Failure'\u001b[0m\u001b[1;33m,\u001b[0m \u001b[0mancillary\u001b[0m \u001b[1;33m=\u001b[0m \u001b[1;32mTrue\u001b[0m\u001b[1;33m)\u001b[0m\u001b[1;31m#, weights_col = 'Weight')\u001b[0m\u001b[1;33m\u001b[0m\u001b[1;33m\u001b[0m\u001b[0m\n\u001b[0m",
      "\u001b[1;32m~\\anaconda3\\lib\\site-packages\\lifelines\\utils\\__init__.py\u001b[0m in \u001b[0;36mf\u001b[1;34m(model, *args, **kwargs)\u001b[0m\n\u001b[0;32m     52\u001b[0m         \u001b[1;32mdef\u001b[0m \u001b[0mf\u001b[0m\u001b[1;33m(\u001b[0m\u001b[0mmodel\u001b[0m\u001b[1;33m,\u001b[0m \u001b[1;33m*\u001b[0m\u001b[0margs\u001b[0m\u001b[1;33m,\u001b[0m \u001b[1;33m**\u001b[0m\u001b[0mkwargs\u001b[0m\u001b[1;33m)\u001b[0m\u001b[1;33m:\u001b[0m\u001b[1;33m\u001b[0m\u001b[1;33m\u001b[0m\u001b[0m\n\u001b[0;32m     53\u001b[0m             \u001b[0mcls\u001b[0m\u001b[1;33m.\u001b[0m\u001b[0mset_censoring_type\u001b[0m\u001b[1;33m(\u001b[0m\u001b[0mmodel\u001b[0m\u001b[1;33m,\u001b[0m \u001b[0mcls\u001b[0m\u001b[1;33m.\u001b[0m\u001b[0mRIGHT\u001b[0m\u001b[1;33m)\u001b[0m\u001b[1;33m\u001b[0m\u001b[1;33m\u001b[0m\u001b[0m\n\u001b[1;32m---> 54\u001b[1;33m             \u001b[1;32mreturn\u001b[0m \u001b[0mfunction\u001b[0m\u001b[1;33m(\u001b[0m\u001b[0mmodel\u001b[0m\u001b[1;33m,\u001b[0m \u001b[1;33m*\u001b[0m\u001b[0margs\u001b[0m\u001b[1;33m,\u001b[0m \u001b[1;33m**\u001b[0m\u001b[0mkwargs\u001b[0m\u001b[1;33m)\u001b[0m\u001b[1;33m\u001b[0m\u001b[1;33m\u001b[0m\u001b[0m\n\u001b[0m\u001b[0;32m     55\u001b[0m \u001b[1;33m\u001b[0m\u001b[0m\n\u001b[0;32m     56\u001b[0m         \u001b[1;32mreturn\u001b[0m \u001b[0mf\u001b[0m\u001b[1;33m\u001b[0m\u001b[1;33m\u001b[0m\u001b[0m\n",
      "\u001b[1;32m~\\anaconda3\\lib\\site-packages\\lifelines\\fitters\\__init__.py\u001b[0m in \u001b[0;36mfit\u001b[1;34m(self, df, duration_col, event_col, ancillary, fit_intercept, show_progress, timeline, weights_col, robust, initial_point, entry_col, formula)\u001b[0m\n\u001b[0;32m   2811\u001b[0m             \u001b[0mregressors\u001b[0m\u001b[1;33m[\u001b[0m\u001b[0mself\u001b[0m\u001b[1;33m.\u001b[0m\u001b[0m_ancillary_parameter_name\u001b[0m\u001b[1;33m]\u001b[0m \u001b[1;33m=\u001b[0m \u001b[1;34m\"1\"\u001b[0m\u001b[1;33m\u001b[0m\u001b[1;33m\u001b[0m\u001b[0m\n\u001b[0;32m   2812\u001b[0m \u001b[1;33m\u001b[0m\u001b[0m\n\u001b[1;32m-> 2813\u001b[1;33m         super(ParametericAFTRegressionFitter, self)._fit(\n\u001b[0m\u001b[0;32m   2814\u001b[0m             \u001b[0mself\u001b[0m\u001b[1;33m.\u001b[0m\u001b[0m_log_likelihood_right_censoring\u001b[0m\u001b[1;33m,\u001b[0m\u001b[1;33m\u001b[0m\u001b[1;33m\u001b[0m\u001b[0m\n\u001b[0;32m   2815\u001b[0m             \u001b[0mdf\u001b[0m\u001b[1;33m,\u001b[0m\u001b[1;33m\u001b[0m\u001b[1;33m\u001b[0m\u001b[0m\n",
      "\u001b[1;32m~\\anaconda3\\lib\\site-packages\\lifelines\\fitters\\__init__.py\u001b[0m in \u001b[0;36m_fit\u001b[1;34m(self, log_likelihood_function, df, Ts, regressors, event_col, show_progress, timeline, weights_col, robust, initial_point, entry_col)\u001b[0m\n\u001b[0;32m   1793\u001b[0m \u001b[1;33m\u001b[0m\u001b[0m\n\u001b[0;32m   1794\u001b[0m         \u001b[0mself\u001b[0m\u001b[1;33m.\u001b[0m\u001b[0m_pre_fit_model\u001b[0m\u001b[1;33m(\u001b[0m\u001b[0mTs\u001b[0m\u001b[1;33m,\u001b[0m \u001b[0mE\u001b[0m\u001b[1;33m,\u001b[0m \u001b[0mXs\u001b[0m\u001b[1;33m)\u001b[0m\u001b[1;33m\u001b[0m\u001b[1;33m\u001b[0m\u001b[0m\n\u001b[1;32m-> 1795\u001b[1;33m         _params, self.log_likelihood_, self._hessian_ = self._fit_model(\n\u001b[0m\u001b[0;32m   1796\u001b[0m             \u001b[0mlog_likelihood_function\u001b[0m\u001b[1;33m,\u001b[0m\u001b[1;33m\u001b[0m\u001b[1;33m\u001b[0m\u001b[0m\n\u001b[0;32m   1797\u001b[0m             \u001b[0mTs\u001b[0m\u001b[1;33m,\u001b[0m\u001b[1;33m\u001b[0m\u001b[1;33m\u001b[0m\u001b[0m\n",
      "\u001b[1;32m~\\anaconda3\\lib\\site-packages\\lifelines\\fitters\\__init__.py\u001b[0m in \u001b[0;36m_fit_model\u001b[1;34m(self, likelihood, Ts, Xs, E, weights, entries, show_progress, user_supplied_initial_point)\u001b[0m\n\u001b[0;32m   1927\u001b[0m             \u001b[0mprint\u001b[0m\u001b[1;33m(\u001b[0m\u001b[0mminimum_results\u001b[0m\u001b[1;33m)\u001b[0m\u001b[1;33m\u001b[0m\u001b[1;33m\u001b[0m\u001b[0m\n\u001b[0;32m   1928\u001b[0m             \u001b[0mself\u001b[0m\u001b[1;33m.\u001b[0m\u001b[0m_check_values_post_fitting\u001b[0m\u001b[1;33m(\u001b[0m\u001b[0mXs\u001b[0m\u001b[1;33m,\u001b[0m \u001b[0mutils\u001b[0m\u001b[1;33m.\u001b[0m\u001b[0mcoalesce\u001b[0m\u001b[1;33m(\u001b[0m\u001b[0mTs\u001b[0m\u001b[1;33m[\u001b[0m\u001b[1;36m1\u001b[0m\u001b[1;33m]\u001b[0m\u001b[1;33m,\u001b[0m \u001b[0mTs\u001b[0m\u001b[1;33m[\u001b[0m\u001b[1;36m0\u001b[0m\u001b[1;33m]\u001b[0m\u001b[1;33m)\u001b[0m\u001b[1;33m,\u001b[0m \u001b[0mE\u001b[0m\u001b[1;33m,\u001b[0m \u001b[0mweights\u001b[0m\u001b[1;33m,\u001b[0m \u001b[0mentries\u001b[0m\u001b[1;33m)\u001b[0m\u001b[1;33m\u001b[0m\u001b[1;33m\u001b[0m\u001b[0m\n\u001b[1;32m-> 1929\u001b[1;33m             raise exceptions.ConvergenceError(\n\u001b[0m\u001b[0;32m   1930\u001b[0m                 dedent(\n\u001b[0;32m   1931\u001b[0m                     \"\"\"\\\n",
      "\u001b[1;31mConvergenceError\u001b[0m: Fitting did not converge. Try the following:\n\n0. Are there any lifelines warnings outputted during the `fit`?\n1. Inspect your DataFrame: does everything look as expected?\n2. Try scaling your duration vector down, i.e. `df[duration_col] = df[duration_col]/100`\n3. Is there high-collinearity in the dataset? Try using the variance inflation factor (VIF) to find redundant variables.\n4. Try using an alternate minimizer: ``fitter._scipy_fit_method = \"SLSQP\"``.\n5. Trying adding a small penalizer (or changing it, if already present). Example: `WeibullAFTFitter(penalizer=0.01).fit(...)`.\n6. Are there any extreme outliers? Try modeling them or dropping them to see if it helps convergence.\n"
     ]
    }
   ],
   "source": [
    "aft.fit(dfwb, duration_col = f'{mode} TT Failure', event_col = f'{mode} Failure', ancillary = True)#, weights_col = 'Weight')"
   ]
  },
  {
   "cell_type": "markdown",
   "metadata": {},
   "source": [
    "\n",
    "0. Are there any lifelines warnings outputted during the `fit`?\n",
    "1. Inspect your DataFrame: does everything look as expected?\n",
    "2. Try scaling your duration vector down, i.e. `df[duration_col] = df[duration_col]/100`\n",
    "3. Is there high-collinearity in the dataset? Try using the variance inflation factor (VIF) to find redundant variables.\n",
    "4. Try using an alternate minimizer: ``fitter._scipy_fit_method = \"SLSQP\"``.\n",
    "5. Trying adding a small penalizer (or changing it, if already present). Example: `WeibullAFTFitter(penalizer=0.01).fit(...)`.\n",
    "6. Are there any extreme outliers? Try modeling them or dropping them to see if it helps convergence.\n"
   ]
  },
  {
   "cell_type": "code",
   "execution_count": null,
   "metadata": {},
   "outputs": [],
   "source": [
    "aft.print_summary()"
   ]
  },
  {
   "cell_type": "markdown",
   "metadata": {},
   "source": [
    "dfwb.drop('Int', axis = 1, inplace = True)"
   ]
  },
  {
   "cell_type": "markdown",
   "metadata": {},
   "source": [
    "labeled[availvars].iloc[0]"
   ]
  },
  {
   "cell_type": "markdown",
   "metadata": {},
   "source": [
    "np.log(aft.predict_survival_function(labeled[availvars].iloc[-1]))"
   ]
  },
  {
   "cell_type": "markdown",
   "metadata": {},
   "source": [
    "plt.plot(h0)"
   ]
  },
  {
   "cell_type": "markdown",
   "metadata": {},
   "source": [
    "aft.plot_partial_effects_on_outcome(availvars, [[0,0,0,0,0],[1,0,0,0,0],[0,1,0,0,0],[0,0,1,0,0],[0,0,0,1,0],[0,0,0,0,1]])"
   ]
  },
  {
   "cell_type": "markdown",
   "metadata": {},
   "source": [
    "availvars"
   ]
  },
  {
   "cell_type": "code",
   "execution_count": null,
   "metadata": {},
   "outputs": [],
   "source": []
  },
  {
   "cell_type": "code",
   "execution_count": 783,
   "metadata": {},
   "outputs": [],
   "source": [
    "betas = aft.params_.lambda_.values\n",
    "alphas = aft.params_.rho_.values"
   ]
  },
  {
   "cell_type": "code",
   "execution_count": 784,
   "metadata": {},
   "outputs": [
    {
     "data": {
      "text/plain": [
       "array([-8.12418128e-03, -4.81714806e-03, -1.74334139e-03, -2.73800475e+00,\n",
       "       -1.95295523e+00,  3.45678911e+01])"
      ]
     },
     "execution_count": 784,
     "metadata": {},
     "output_type": "execute_result"
    }
   ],
   "source": [
    "betas"
   ]
  },
  {
   "cell_type": "code",
   "execution_count": 785,
   "metadata": {},
   "outputs": [],
   "source": [
    "dfwb['Int'] = 1"
   ]
  },
  {
   "cell_type": "code",
   "execution_count": 786,
   "metadata": {},
   "outputs": [],
   "source": [
    "xs = dfwb[availvars + ['Int']].values"
   ]
  },
  {
   "cell_type": "code",
   "execution_count": 787,
   "metadata": {},
   "outputs": [
    {
     "data": {
      "text/plain": [
       "array([0.72822969])"
      ]
     },
     "execution_count": 787,
     "metadata": {},
     "output_type": "execute_result"
    }
   ],
   "source": [
    "alphas"
   ]
  },
  {
   "cell_type": "code",
   "execution_count": 788,
   "metadata": {},
   "outputs": [],
   "source": [
    "lambdax = np.exp(np.dot(xs,betas))"
   ]
  },
  {
   "cell_type": "code",
   "execution_count": 789,
   "metadata": {},
   "outputs": [
    {
     "data": {
      "text/plain": [
       "array([0.000000e+00, 1.200000e+02, 2.400000e+02, ..., 2.350740e+07,\n",
       "       2.350872e+07, 2.350944e+07])"
      ]
     },
     "execution_count": 789,
     "metadata": {},
     "output_type": "execute_result"
    }
   ],
   "source": [
    "t"
   ]
  },
  {
   "cell_type": "code",
   "execution_count": 790,
   "metadata": {},
   "outputs": [],
   "source": [
    "t = df['Time On'].values"
   ]
  },
  {
   "cell_type": "code",
   "execution_count": 791,
   "metadata": {},
   "outputs": [
    {
     "data": {
      "text/plain": [
       "array([0.000000e+00, 1.200000e+02, 2.400000e+02, ..., 1.229604e+07,\n",
       "       1.229616e+07, 1.229628e+07])"
      ]
     },
     "execution_count": 791,
     "metadata": {},
     "output_type": "execute_result"
    }
   ],
   "source": [
    "t"
   ]
  },
  {
   "cell_type": "code",
   "execution_count": 792,
   "metadata": {},
   "outputs": [
    {
     "data": {
      "text/plain": [
       "array([2.07141032])"
      ]
     },
     "execution_count": 792,
     "metadata": {},
     "output_type": "execute_result"
    }
   ],
   "source": [
    "rho = np.exp(alphas)#np.exp(np.dot(xs,alphas))\n",
    "rho"
   ]
  },
  {
   "cell_type": "code",
   "execution_count": 793,
   "metadata": {},
   "outputs": [],
   "source": [
    "haz = (t/lambdax)**rho"
   ]
  },
  {
   "cell_type": "code",
   "execution_count": 794,
   "metadata": {},
   "outputs": [],
   "source": [
    "survival = np.exp(-(t/lambdax)**rho)"
   ]
  },
  {
   "cell_type": "code",
   "execution_count": 795,
   "metadata": {},
   "outputs": [
    {
     "data": {
      "text/plain": [
       "[<matplotlib.lines.Line2D at 0x27e407c9250>]"
      ]
     },
     "execution_count": 795,
     "metadata": {},
     "output_type": "execute_result"
    },
    {
     "data": {
      "image/png": "[encoded data removed]",
      "text/plain": [
       "<Figure size 432x288 with 1 Axes>"
      ]
     },
     "metadata": {
      "needs_background": "light"
     },
     "output_type": "display_data"
    }
   ],
   "source": [
    "plt.plot(t/(60*60), survival)"
   ]
  },
  {
   "cell_type": "markdown",
   "metadata": {},
   "source": [
    "print(aft.__doc__)"
   ]
  },
  {
   "cell_type": "code",
   "execution_count": null,
   "metadata": {},
   "outputs": [],
   "source": []
  },
  {
   "cell_type": "code",
   "execution_count": null,
   "metadata": {},
   "outputs": [],
   "source": []
  },
  {
   "cell_type": "code",
   "execution_count": null,
   "metadata": {},
   "outputs": [],
   "source": []
  },
  {
   "cell_type": "code",
   "execution_count": null,
   "metadata": {},
   "outputs": [],
   "source": []
  },
  {
   "cell_type": "code",
   "execution_count": null,
   "metadata": {},
   "outputs": [],
   "source": []
  },
  {
   "cell_type": "code",
   "execution_count": null,
   "metadata": {},
   "outputs": [],
   "source": []
  },
  {
   "cell_type": "code",
   "execution_count": null,
   "metadata": {},
   "outputs": [],
   "source": []
  },
  {
   "cell_type": "code",
   "execution_count": null,
   "metadata": {},
   "outputs": [],
   "source": []
  },
  {
   "cell_type": "code",
   "execution_count": null,
   "metadata": {},
   "outputs": [],
   "source": []
  },
  {
   "cell_type": "code",
   "execution_count": null,
   "metadata": {},
   "outputs": [],
   "source": []
  },
  {
   "cell_type": "code",
   "execution_count": null,
   "metadata": {},
   "outputs": [],
   "source": []
  },
  {
   "cell_type": "code",
   "execution_count": 364,
   "metadata": {},
   "outputs": [
    {
     "name": "stdout",
     "output_type": "stream",
     "text": [
      "The ``p_value_threshold`` is set at 0.01. Even under the null hypothesis of no violations, some\n",
      "covariates will be below the threshold by chance. This is compounded when there are many covariates.\n",
      "Similarly, when there are lots of observations, even minor deviances from the proportional hazard\n",
      "assumption will be flagged.\n",
      "\n",
      "With that in mind, it's best to use a combination of statistical tests and visual tests to determine\n",
      "the most serious violations. Produce visual plots using ``check_assumptions(..., show_plots=True)``\n",
      "and looking for non-constant lines. See link [A] below for a full example.\n",
      "\n"
     ]
    },
    {
     "data": {
      "text/html": [
       "<div>\n",
       "<style scoped>\n",
       "    .dataframe tbody tr th:only-of-type {\n",
       "        vertical-align: middle;\n",
       "    }\n",
       "\n",
       "    .dataframe tbody tr th {\n",
       "        vertical-align: top;\n",
       "    }\n",
       "\n",
       "    .dataframe thead th {\n",
       "        text-align: right;\n",
       "    }\n",
       "</style>\n",
       "<table border=\"1\" class=\"dataframe\">\n",
       "  <tbody>\n",
       "    <tr>\n",
       "      <th>null_distribution</th>\n",
       "      <td>chi squared</td>\n",
       "    </tr>\n",
       "    <tr>\n",
       "      <th>degrees_of_freedom</th>\n",
       "      <td>1</td>\n",
       "    </tr>\n",
       "    <tr>\n",
       "      <th>model</th>\n",
       "      <td>&lt;lifelines.CoxPHFitter: fitted with 432 total ...</td>\n",
       "    </tr>\n",
       "    <tr>\n",
       "      <th>test_name</th>\n",
       "      <td>proportional_hazard_test</td>\n",
       "    </tr>\n",
       "  </tbody>\n",
       "</table>\n",
       "</div><table border=\"1\" class=\"dataframe\">\n",
       "  <thead>\n",
       "    <tr style=\"text-align: right;\">\n",
       "      <th></th>\n",
       "      <th></th>\n",
       "      <th>test_statistic</th>\n",
       "      <th>p</th>\n",
       "      <th>-log2(p)</th>\n",
       "    </tr>\n",
       "  </thead>\n",
       "  <tbody>\n",
       "    <tr>\n",
       "      <th rowspan=\"2\" valign=\"top\">age</th>\n",
       "      <th>km</th>\n",
       "      <td>11.03</td>\n",
       "      <td>&lt;0.005</td>\n",
       "      <td>10.12</td>\n",
       "    </tr>\n",
       "    <tr>\n",
       "      <th>rank</th>\n",
       "      <td>11.45</td>\n",
       "      <td>&lt;0.005</td>\n",
       "      <td>10.45</td>\n",
       "    </tr>\n",
       "    <tr>\n",
       "      <th rowspan=\"2\" valign=\"top\">fin</th>\n",
       "      <th>km</th>\n",
       "      <td>0.02</td>\n",
       "      <td>0.89</td>\n",
       "      <td>0.17</td>\n",
       "    </tr>\n",
       "    <tr>\n",
       "      <th>rank</th>\n",
       "      <td>0.02</td>\n",
       "      <td>0.90</td>\n",
       "      <td>0.15</td>\n",
       "    </tr>\n",
       "    <tr>\n",
       "      <th rowspan=\"2\" valign=\"top\">mar</th>\n",
       "      <th>km</th>\n",
       "      <td>0.60</td>\n",
       "      <td>0.44</td>\n",
       "      <td>1.19</td>\n",
       "    </tr>\n",
       "    <tr>\n",
       "      <th>rank</th>\n",
       "      <td>0.71</td>\n",
       "      <td>0.40</td>\n",
       "      <td>1.32</td>\n",
       "    </tr>\n",
       "    <tr>\n",
       "      <th rowspan=\"2\" valign=\"top\">paro</th>\n",
       "      <th>km</th>\n",
       "      <td>0.12</td>\n",
       "      <td>0.73</td>\n",
       "      <td>0.45</td>\n",
       "    </tr>\n",
       "    <tr>\n",
       "      <th>rank</th>\n",
       "      <td>0.13</td>\n",
       "      <td>0.71</td>\n",
       "      <td>0.49</td>\n",
       "    </tr>\n",
       "    <tr>\n",
       "      <th rowspan=\"2\" valign=\"top\">prio</th>\n",
       "      <th>km</th>\n",
       "      <td>0.02</td>\n",
       "      <td>0.88</td>\n",
       "      <td>0.18</td>\n",
       "    </tr>\n",
       "    <tr>\n",
       "      <th>rank</th>\n",
       "      <td>0.02</td>\n",
       "      <td>0.89</td>\n",
       "      <td>0.17</td>\n",
       "    </tr>\n",
       "    <tr>\n",
       "      <th rowspan=\"2\" valign=\"top\">race</th>\n",
       "      <th>km</th>\n",
       "      <td>1.44</td>\n",
       "      <td>0.23</td>\n",
       "      <td>2.12</td>\n",
       "    </tr>\n",
       "    <tr>\n",
       "      <th>rank</th>\n",
       "      <td>1.43</td>\n",
       "      <td>0.23</td>\n",
       "      <td>2.11</td>\n",
       "    </tr>\n",
       "    <tr>\n",
       "      <th rowspan=\"2\" valign=\"top\">wexp</th>\n",
       "      <th>km</th>\n",
       "      <td>7.48</td>\n",
       "      <td>0.01</td>\n",
       "      <td>7.32</td>\n",
       "    </tr>\n",
       "    <tr>\n",
       "      <th>rank</th>\n",
       "      <td>7.31</td>\n",
       "      <td>0.01</td>\n",
       "      <td>7.19</td>\n",
       "    </tr>\n",
       "  </tbody>\n",
       "</table>"
      ],
      "text/latex": [
       "\\begin{tabular}{llrrr}\n",
       "\\toprule\n",
       "     &      &  test\\_statistic &           p &  -log2(p) \\\\\n",
       "\\midrule\n",
       "age & km &         11.0303 &  0.00089635 &   10.1237 \\\\\n",
       "     & rank &         11.4535 & 0.000713596 &   10.4526 \\\\\n",
       "fin & km &         0.01913 &    0.889994 &  0.168132 \\\\\n",
       "     & rank &       0.0150558 &    0.902343 &  0.148252 \\\\\n",
       "mar & km &        0.600874 &    0.438245 &   1.19019 \\\\\n",
       "     & rank &        0.709474 &    0.399619 &    1.3233 \\\\\n",
       "paro & km &        0.115721 &    0.733723 &  0.446693 \\\\\n",
       "     & rank &        0.134266 &    0.714049 &  0.485905 \\\\\n",
       "prio & km &       0.0225455 &    0.880645 &  0.183368 \\\\\n",
       "     & rank &       0.0188342 &    0.890843 &  0.166757 \\\\\n",
       "race & km &         1.43746 &    0.230551 &   2.11684 \\\\\n",
       "     & rank &         1.42648 &     0.23234 &   2.10569 \\\\\n",
       "wexp & km &         7.47547 &  0.00625452 &   7.32089 \\\\\n",
       "     & rank &         7.31493 &  0.00683839 &   7.19213 \\\\\n",
       "\\bottomrule\n",
       "\\end{tabular}\n"
      ],
      "text/plain": [
       "<lifelines.StatisticalResult: proportional_hazard_test>\n",
       " null_distribution = chi squared\n",
       "degrees_of_freedom = 1\n",
       "             model = <lifelines.CoxPHFitter: fitted with 432 total observations, 318 right-censored observations>\n",
       "         test_name = proportional_hazard_test\n",
       "\n",
       "---\n",
       "           test_statistic      p  -log2(p)\n",
       "age  km             11.03 <0.005     10.12\n",
       "     rank           11.45 <0.005     10.45\n",
       "fin  km              0.02   0.89      0.17\n",
       "     rank            0.02   0.90      0.15\n",
       "mar  km              0.60   0.44      1.19\n",
       "     rank            0.71   0.40      1.32\n",
       "paro km              0.12   0.73      0.45\n",
       "     rank            0.13   0.71      0.49\n",
       "prio km              0.02   0.88      0.18\n",
       "     rank            0.02   0.89      0.17\n",
       "race km              1.44   0.23      2.12\n",
       "     rank            1.43   0.23      2.11\n",
       "wexp km              7.48   0.01      7.32\n",
       "     rank            7.31   0.01      7.19"
      ]
     },
     "metadata": {},
     "output_type": "display_data"
    },
    {
     "name": "stdout",
     "output_type": "stream",
     "text": [
      "\n",
      "\n",
      "1. Variable 'age' failed the non-proportional test: p-value is 0.0007.\n",
      "\n",
      "   Advice 1: the functional form of the variable 'age' might be incorrect. That is, there may be\n",
      "non-linear terms missing. The proportional hazard test used is very sensitive to incorrect\n",
      "functional forms. See documentation in link [D] below on how to specify a functional form.\n",
      "\n",
      "   Advice 2: try binning the variable 'age' using pd.cut, and then specify it in `strata=['age',\n",
      "...]` in the call in `.fit`. See documentation in link [B] below.\n",
      "\n",
      "   Advice 3: try adding an interaction term with your time variable. See documentation in link [C]\n",
      "below.\n",
      "\n",
      "\n",
      "   Bootstrapping lowess lines. May take a moment...\n",
      "\n",
      "\n",
      "2. Variable 'wexp' failed the non-proportional test: p-value is 0.0063.\n",
      "\n",
      "   Advice: with so few unique values (only 2), you can include `strata=['wexp', ...]` in the call in\n",
      "`.fit`. See documentation in link [E] below.\n",
      "\n",
      "   Bootstrapping lowess lines. May take a moment...\n",
      "\n",
      "\n",
      "---\n",
      "[A]  https://lifelines.readthedocs.io/en/latest/jupyter_notebooks/Proportional%20hazard%20assumption.html\n",
      "[B]  https://lifelines.readthedocs.io/en/latest/jupyter_notebooks/Proportional%20hazard%20assumption.html#Bin-variable-and-stratify-on-it\n",
      "[C]  https://lifelines.readthedocs.io/en/latest/jupyter_notebooks/Proportional%20hazard%20assumption.html#Introduce-time-varying-covariates\n",
      "[D]  https://lifelines.readthedocs.io/en/latest/jupyter_notebooks/Proportional%20hazard%20assumption.html#Modify-the-functional-form\n",
      "[E]  https://lifelines.readthedocs.io/en/latest/jupyter_notebooks/Proportional%20hazard%20assumption.html#Stratification\n",
      "\n"
     ]
    },
    {
     "data": {
      "image/png": "[encoded data removed]",
      "text/plain": [
       "<Figure size 432x288 with 2 Axes>"
      ]
     },
     "metadata": {
      "needs_background": "light"
     },
     "output_type": "display_data"
    },
    {
     "data": {
      "image/png": "[encoded data removed]",
      "text/plain": [
       "<Figure size 432x288 with 2 Axes>"
      ]
     },
     "metadata": {
      "needs_background": "light"
     },
     "output_type": "display_data"
    }
   ],
   "source": [
    "from lifelines.datasets import load_rossi\n",
    "from lifelines import CoxPHFitter\n",
    "\n",
    "rossi = load_rossi()\n",
    "cph = CoxPHFitter().fit(rossi, 'week', 'arrest')\n",
    "\n",
    "axes = cph.check_assumptions(rossi, show_plots=True)"
   ]
  },
  {
   "cell_type": "code",
   "execution_count": 365,
   "metadata": {},
   "outputs": [
    {
     "data": {
      "text/html": [
       "<div>\n",
       "<style scoped>\n",
       "    .dataframe tbody tr th:only-of-type {\n",
       "        vertical-align: middle;\n",
       "    }\n",
       "\n",
       "    .dataframe tbody tr th {\n",
       "        vertical-align: top;\n",
       "    }\n",
       "\n",
       "    .dataframe thead th {\n",
       "        text-align: right;\n",
       "    }\n",
       "</style>\n",
       "<table border=\"1\" class=\"dataframe\">\n",
       "  <thead>\n",
       "    <tr style=\"text-align: right;\">\n",
       "      <th></th>\n",
       "      <th>week</th>\n",
       "      <th>arrest</th>\n",
       "      <th>fin</th>\n",
       "      <th>age</th>\n",
       "      <th>race</th>\n",
       "      <th>wexp</th>\n",
       "      <th>mar</th>\n",
       "      <th>paro</th>\n",
       "      <th>prio</th>\n",
       "    </tr>\n",
       "  </thead>\n",
       "  <tbody>\n",
       "    <tr>\n",
       "      <th>0</th>\n",
       "      <td>20</td>\n",
       "      <td>1</td>\n",
       "      <td>0</td>\n",
       "      <td>27</td>\n",
       "      <td>1</td>\n",
       "      <td>0</td>\n",
       "      <td>0</td>\n",
       "      <td>1</td>\n",
       "      <td>3</td>\n",
       "    </tr>\n",
       "    <tr>\n",
       "      <th>1</th>\n",
       "      <td>17</td>\n",
       "      <td>1</td>\n",
       "      <td>0</td>\n",
       "      <td>18</td>\n",
       "      <td>1</td>\n",
       "      <td>0</td>\n",
       "      <td>0</td>\n",
       "      <td>1</td>\n",
       "      <td>8</td>\n",
       "    </tr>\n",
       "    <tr>\n",
       "      <th>2</th>\n",
       "      <td>25</td>\n",
       "      <td>1</td>\n",
       "      <td>0</td>\n",
       "      <td>19</td>\n",
       "      <td>0</td>\n",
       "      <td>1</td>\n",
       "      <td>0</td>\n",
       "      <td>1</td>\n",
       "      <td>13</td>\n",
       "    </tr>\n",
       "    <tr>\n",
       "      <th>3</th>\n",
       "      <td>52</td>\n",
       "      <td>0</td>\n",
       "      <td>1</td>\n",
       "      <td>23</td>\n",
       "      <td>1</td>\n",
       "      <td>1</td>\n",
       "      <td>1</td>\n",
       "      <td>1</td>\n",
       "      <td>1</td>\n",
       "    </tr>\n",
       "    <tr>\n",
       "      <th>4</th>\n",
       "      <td>52</td>\n",
       "      <td>0</td>\n",
       "      <td>0</td>\n",
       "      <td>19</td>\n",
       "      <td>0</td>\n",
       "      <td>1</td>\n",
       "      <td>0</td>\n",
       "      <td>1</td>\n",
       "      <td>3</td>\n",
       "    </tr>\n",
       "    <tr>\n",
       "      <th>...</th>\n",
       "      <td>...</td>\n",
       "      <td>...</td>\n",
       "      <td>...</td>\n",
       "      <td>...</td>\n",
       "      <td>...</td>\n",
       "      <td>...</td>\n",
       "      <td>...</td>\n",
       "      <td>...</td>\n",
       "      <td>...</td>\n",
       "    </tr>\n",
       "    <tr>\n",
       "      <th>427</th>\n",
       "      <td>52</td>\n",
       "      <td>0</td>\n",
       "      <td>1</td>\n",
       "      <td>31</td>\n",
       "      <td>0</td>\n",
       "      <td>1</td>\n",
       "      <td>0</td>\n",
       "      <td>1</td>\n",
       "      <td>3</td>\n",
       "    </tr>\n",
       "    <tr>\n",
       "      <th>428</th>\n",
       "      <td>52</td>\n",
       "      <td>0</td>\n",
       "      <td>0</td>\n",
       "      <td>20</td>\n",
       "      <td>1</td>\n",
       "      <td>0</td>\n",
       "      <td>0</td>\n",
       "      <td>1</td>\n",
       "      <td>1</td>\n",
       "    </tr>\n",
       "    <tr>\n",
       "      <th>429</th>\n",
       "      <td>52</td>\n",
       "      <td>0</td>\n",
       "      <td>1</td>\n",
       "      <td>20</td>\n",
       "      <td>1</td>\n",
       "      <td>1</td>\n",
       "      <td>1</td>\n",
       "      <td>1</td>\n",
       "      <td>1</td>\n",
       "    </tr>\n",
       "    <tr>\n",
       "      <th>430</th>\n",
       "      <td>52</td>\n",
       "      <td>0</td>\n",
       "      <td>0</td>\n",
       "      <td>29</td>\n",
       "      <td>1</td>\n",
       "      <td>1</td>\n",
       "      <td>0</td>\n",
       "      <td>1</td>\n",
       "      <td>3</td>\n",
       "    </tr>\n",
       "    <tr>\n",
       "      <th>431</th>\n",
       "      <td>52</td>\n",
       "      <td>0</td>\n",
       "      <td>1</td>\n",
       "      <td>24</td>\n",
       "      <td>1</td>\n",
       "      <td>1</td>\n",
       "      <td>0</td>\n",
       "      <td>1</td>\n",
       "      <td>1</td>\n",
       "    </tr>\n",
       "  </tbody>\n",
       "</table>\n",
       "<p>432 rows × 9 columns</p>\n",
       "</div>"
      ],
      "text/plain": [
       "     week  arrest  fin  age  race  wexp  mar  paro  prio\n",
       "0      20       1    0   27     1     0    0     1     3\n",
       "1      17       1    0   18     1     0    0     1     8\n",
       "2      25       1    0   19     0     1    0     1    13\n",
       "3      52       0    1   23     1     1    1     1     1\n",
       "4      52       0    0   19     0     1    0     1     3\n",
       "..    ...     ...  ...  ...   ...   ...  ...   ...   ...\n",
       "427    52       0    1   31     0     1    0     1     3\n",
       "428    52       0    0   20     1     0    0     1     1\n",
       "429    52       0    1   20     1     1    1     1     1\n",
       "430    52       0    0   29     1     1    0     1     3\n",
       "431    52       0    1   24     1     1    0     1     1\n",
       "\n",
       "[432 rows x 9 columns]"
      ]
     },
     "execution_count": 365,
     "metadata": {},
     "output_type": "execute_result"
    }
   ],
   "source": [
    "rossi"
   ]
  },
  {
   "cell_type": "code",
   "execution_count": null,
   "metadata": {},
   "outputs": [],
   "source": []
  },
  {
   "cell_type": "code",
   "execution_count": null,
   "metadata": {},
   "outputs": [],
   "source": []
  },
  {
   "cell_type": "code",
   "execution_count": null,
   "metadata": {},
   "outputs": [],
   "source": []
  },
  {
   "cell_type": "code",
   "execution_count": null,
   "metadata": {},
   "outputs": [],
   "source": []
  },
  {
   "cell_type": "code",
   "execution_count": null,
   "metadata": {},
   "outputs": [],
   "source": []
  },
  {
   "cell_type": "code",
   "execution_count": null,
   "metadata": {},
   "outputs": [],
   "source": []
  },
  {
   "cell_type": "code",
   "execution_count": null,
   "metadata": {},
   "outputs": [],
   "source": []
  },
  {
   "cell_type": "code",
   "execution_count": null,
   "metadata": {},
   "outputs": [],
   "source": []
  },
  {
   "cell_type": "code",
   "execution_count": null,
   "metadata": {},
   "outputs": [],
   "source": []
  },
  {
   "cell_type": "code",
   "execution_count": null,
   "metadata": {},
   "outputs": [],
   "source": []
  },
  {
   "cell_type": "code",
   "execution_count": null,
   "metadata": {},
   "outputs": [],
   "source": []
  },
  {
   "cell_type": "code",
   "execution_count": null,
   "metadata": {},
   "outputs": [],
   "source": []
  },
  {
   "cell_type": "code",
   "execution_count": null,
   "metadata": {},
   "outputs": [],
   "source": []
  }
 ],
 "metadata": {
  "kernelspec": {
   "display_name": "Python 3",
   "language": "python",
   "name": "python3"
  },
  "language_info": {
   "codemirror_mode": {
    "name": "ipython",
    "version": 3
   },
   "file_extension": ".py",
   "mimetype": "text/x-python",
   "name": "python",
   "nbconvert_exporter": "python",
   "pygments_lexer": "ipython3",
   "version": "3.8.5"
  }
 },
 "nbformat": 4,
 "nbformat_minor": 4
}
