{
 "cells": [
  {
   "cell_type": "code",
   "execution_count": 1,
   "metadata": {},
   "outputs": [],
   "source": [
    "# Data Handling\n",
    "import pandas as pd\n",
    "import numpy as np\n",
    "from sklearn.preprocessing import StandardScaler\n",
    "\n",
    "# Model and Model Selection\n",
    "from sklearn.svm import SVC\n",
    "from sklearn.ensemble import RandomForestClassifier\n",
    "from sklearn.pipeline import Pipeline\n",
    "from sklearn.model_selection import cross_val_predict\n",
    "from sklearn.model_selection import GridSearchCV\n",
    "\n",
    "# Metrics\n",
    "from sklearn.metrics import confusion_matrix\n",
    "from sklearn.metrics import classification_report\n",
    "\n",
    "# Plotting\n",
    "import seaborn as sns\n",
    "import matplotlib.pyplot as plt"
   ]
  },
  {
   "cell_type": "markdown",
   "metadata": {},
   "source": [
    "## Import and Split the Data"
   ]
  },
  {
   "cell_type": "code",
   "execution_count": 5,
   "metadata": {},
   "outputs": [
    {
     "data": {
      "text/html": [
       "<div>\n",
       "<style scoped>\n",
       "    .dataframe tbody tr th:only-of-type {\n",
       "        vertical-align: middle;\n",
       "    }\n",
       "\n",
       "    .dataframe tbody tr th {\n",
       "        vertical-align: top;\n",
       "    }\n",
       "\n",
       "    .dataframe thead th {\n",
       "        text-align: right;\n",
       "    }\n",
       "</style>\n",
       "<table border=\"1\" class=\"dataframe\">\n",
       "  <thead>\n",
       "    <tr style=\"text-align: right;\">\n",
       "      <th></th>\n",
       "      <th>Inlet Flowrate</th>\n",
       "      <th>Inlet Pressure</th>\n",
       "      <th>Outlet Pressure</th>\n",
       "      <th>Pump Driver Vibration</th>\n",
       "      <th>Pump Vibration</th>\n",
       "      <th>Condition</th>\n",
       "    </tr>\n",
       "  </thead>\n",
       "  <tbody>\n",
       "    <tr>\n",
       "      <th>0</th>\n",
       "      <td>5589.695313</td>\n",
       "      <td>44.089844</td>\n",
       "      <td>2038.945312</td>\n",
       "      <td>0.072129</td>\n",
       "      <td>0.022539</td>\n",
       "      <td>Normal</td>\n",
       "    </tr>\n",
       "    <tr>\n",
       "      <th>1</th>\n",
       "      <td>5585.048829</td>\n",
       "      <td>44.150391</td>\n",
       "      <td>2040.156250</td>\n",
       "      <td>0.073216</td>\n",
       "      <td>0.022109</td>\n",
       "      <td>Normal</td>\n",
       "    </tr>\n",
       "    <tr>\n",
       "      <th>2</th>\n",
       "      <td>5592.539063</td>\n",
       "      <td>44.190104</td>\n",
       "      <td>2040.937500</td>\n",
       "      <td>0.074336</td>\n",
       "      <td>0.023398</td>\n",
       "      <td>Normal</td>\n",
       "    </tr>\n",
       "    <tr>\n",
       "      <th>3</th>\n",
       "      <td>5595.966797</td>\n",
       "      <td>44.185547</td>\n",
       "      <td>2042.578125</td>\n",
       "      <td>0.074385</td>\n",
       "      <td>0.022520</td>\n",
       "      <td>Normal</td>\n",
       "    </tr>\n",
       "    <tr>\n",
       "      <th>4</th>\n",
       "      <td>5592.539063</td>\n",
       "      <td>44.158203</td>\n",
       "      <td>2042.395833</td>\n",
       "      <td>0.073105</td>\n",
       "      <td>0.022721</td>\n",
       "      <td>Normal</td>\n",
       "    </tr>\n",
       "  </tbody>\n",
       "</table>\n",
       "</div>"
      ],
      "text/plain": [
       "   Inlet Flowrate  Inlet Pressure  Outlet Pressure  Pump Driver Vibration  \\\n",
       "0     5589.695313       44.089844      2038.945312               0.072129   \n",
       "1     5585.048829       44.150391      2040.156250               0.073216   \n",
       "2     5592.539063       44.190104      2040.937500               0.074336   \n",
       "3     5595.966797       44.185547      2042.578125               0.074385   \n",
       "4     5592.539063       44.158203      2042.395833               0.073105   \n",
       "\n",
       "   Pump Vibration Condition  \n",
       "0        0.022539    Normal  \n",
       "1        0.022109    Normal  \n",
       "2        0.023398    Normal  \n",
       "3        0.022520    Normal  \n",
       "4        0.022721    Normal  "
      ]
     },
     "execution_count": 5,
     "metadata": {},
     "output_type": "execute_result"
    }
   ],
   "source": [
    "data = pd.read_excel('SVMtrain.xlsx').drop(columns = ['Unnamed: 0', 'Time', 'Time On', 'Status'])\n",
    "data.head()"
   ]
  },
  {
   "cell_type": "code",
   "execution_count": 6,
   "metadata": {},
   "outputs": [
    {
     "data": {
      "text/html": [
       "<div>\n",
       "<style scoped>\n",
       "    .dataframe tbody tr th:only-of-type {\n",
       "        vertical-align: middle;\n",
       "    }\n",
       "\n",
       "    .dataframe tbody tr th {\n",
       "        vertical-align: top;\n",
       "    }\n",
       "\n",
       "    .dataframe thead th {\n",
       "        text-align: right;\n",
       "    }\n",
       "</style>\n",
       "<table border=\"1\" class=\"dataframe\">\n",
       "  <thead>\n",
       "    <tr style=\"text-align: right;\">\n",
       "      <th></th>\n",
       "      <th>Inlet Flowrate</th>\n",
       "      <th>Inlet Pressure</th>\n",
       "      <th>Outlet Pressure</th>\n",
       "      <th>Pump Driver Vibration</th>\n",
       "      <th>Pump Vibration</th>\n",
       "    </tr>\n",
       "  </thead>\n",
       "  <tbody>\n",
       "    <tr>\n",
       "      <th>0</th>\n",
       "      <td>5589.695313</td>\n",
       "      <td>44.089844</td>\n",
       "      <td>2038.945312</td>\n",
       "      <td>0.072129</td>\n",
       "      <td>0.022539</td>\n",
       "    </tr>\n",
       "    <tr>\n",
       "      <th>1</th>\n",
       "      <td>5585.048829</td>\n",
       "      <td>44.150391</td>\n",
       "      <td>2040.156250</td>\n",
       "      <td>0.073216</td>\n",
       "      <td>0.022109</td>\n",
       "    </tr>\n",
       "    <tr>\n",
       "      <th>2</th>\n",
       "      <td>5592.539063</td>\n",
       "      <td>44.190104</td>\n",
       "      <td>2040.937500</td>\n",
       "      <td>0.074336</td>\n",
       "      <td>0.023398</td>\n",
       "    </tr>\n",
       "    <tr>\n",
       "      <th>3</th>\n",
       "      <td>5595.966797</td>\n",
       "      <td>44.185547</td>\n",
       "      <td>2042.578125</td>\n",
       "      <td>0.074385</td>\n",
       "      <td>0.022520</td>\n",
       "    </tr>\n",
       "    <tr>\n",
       "      <th>4</th>\n",
       "      <td>5592.539063</td>\n",
       "      <td>44.158203</td>\n",
       "      <td>2042.395833</td>\n",
       "      <td>0.073105</td>\n",
       "      <td>0.022721</td>\n",
       "    </tr>\n",
       "  </tbody>\n",
       "</table>\n",
       "</div>"
      ],
      "text/plain": [
       "   Inlet Flowrate  Inlet Pressure  Outlet Pressure  Pump Driver Vibration  \\\n",
       "0     5589.695313       44.089844      2038.945312               0.072129   \n",
       "1     5585.048829       44.150391      2040.156250               0.073216   \n",
       "2     5592.539063       44.190104      2040.937500               0.074336   \n",
       "3     5595.966797       44.185547      2042.578125               0.074385   \n",
       "4     5592.539063       44.158203      2042.395833               0.073105   \n",
       "\n",
       "   Pump Vibration  \n",
       "0        0.022539  \n",
       "1        0.022109  \n",
       "2        0.023398  \n",
       "3        0.022520  \n",
       "4        0.022721  "
      ]
     },
     "execution_count": 6,
     "metadata": {},
     "output_type": "execute_result"
    }
   ],
   "source": [
    "y = data['Condition']\n",
    "X = data.drop(columns = ['Condition'])\n",
    "X.head()"
   ]
  },
  {
   "cell_type": "markdown",
   "metadata": {},
   "source": [
    "## Define The Model"
   ]
  },
  {
   "cell_type": "code",
   "execution_count": 9,
   "metadata": {},
   "outputs": [],
   "source": [
    "scaler = StandardScaler()\n",
    "model_supportVector = SVC()\n",
    "pipeLineModel = Pipeline(steps = [('scaler', scaler), ('svc', model_supportVector)])"
   ]
  },
  {
   "cell_type": "code",
   "execution_count": 11,
   "metadata": {},
   "outputs": [
    {
     "data": {
      "text/plain": [
       "{'Normal': 1, 'Cracked_Seal': 25, 'Valve_Alignment': 25, 'Broken_Impeller': 25}"
      ]
     },
     "execution_count": 11,
     "metadata": {},
     "output_type": "execute_result"
    }
   ],
   "source": [
    "failureWeights = dict(y.value_counts())\n",
    "for failure in failureWeights.keys(): \n",
    "    if failure == 'Normal':\n",
    "        failureWeights[failure] = 1\n",
    "    else: \n",
    "        failureWeights[failure] = 25\n",
    "failureWeights"
   ]
  },
  {
   "cell_type": "code",
   "execution_count": null,
   "metadata": {},
   "outputs": [],
   "source": [
    "param_grid = {'svc__kernel': ['rbf'],\n",
    "             'svc__class_weight': [{'Normal':1,'Broken_Impeller':25 ,'Broken_Valve':25 ,'Leaking_Valve':25 , 'Motor_Distorted':25,'Broken_Impeller_Warning':25, 'Motor_Distorted_Warning':25,'Leaking_Valve_Warning':25,'Broken_Valve_Warning':25 }],\n",
    "              'svc__C': [1]\n",
    "             }"
   ]
  }
 ],
 "metadata": {
  "kernelspec": {
   "display_name": "Python 3",
   "language": "python",
   "name": "python3"
  },
  "language_info": {
   "codemirror_mode": {
    "name": "ipython",
    "version": 3
   },
   "file_extension": ".py",
   "mimetype": "text/x-python",
   "name": "python",
   "nbconvert_exporter": "python",
   "pygments_lexer": "ipython3",
   "version": "3.8.3"
  }
 },
 "nbformat": 4,
 "nbformat_minor": 4
}
